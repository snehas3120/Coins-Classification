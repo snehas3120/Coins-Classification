{
  "nbformat": 4,
  "nbformat_minor": 0,
  "metadata": {
    "colab": {
      "name": "Untitled1.ipynb",
      "provenance": [],
      "collapsed_sections": [],
      "authorship_tag": "ABX9TyMTDeN4v//XwvWuy60G/G2S",
      "include_colab_link": true
    },
    "kernelspec": {
      "name": "python3",
      "display_name": "Python 3"
    },
    "language_info": {
      "name": "python"
    },
    "widgets": {
      "application/vnd.jupyter.widget-state+json": {
        "d209825173c24596b6be31fdd641acca": {
          "model_module": "@jupyter-widgets/controls",
          "model_name": "HBoxModel",
          "state": {
            "_view_name": "HBoxView",
            "_dom_classes": [],
            "_model_name": "HBoxModel",
            "_view_module": "@jupyter-widgets/controls",
            "_model_module_version": "1.5.0",
            "_view_count": null,
            "_view_module_version": "1.5.0",
            "box_style": "",
            "layout": "IPY_MODEL_b2c3b85079ce441982c7839bd479de73",
            "_model_module": "@jupyter-widgets/controls",
            "children": [
              "IPY_MODEL_71fa1e28c25a44c48af62b320aaea697",
              "IPY_MODEL_b8a28f3daa7e4ae7abba7b7c9e2dcb46"
            ]
          }
        },
        "b2c3b85079ce441982c7839bd479de73": {
          "model_module": "@jupyter-widgets/base",
          "model_name": "LayoutModel",
          "state": {
            "_view_name": "LayoutView",
            "grid_template_rows": null,
            "right": null,
            "justify_content": null,
            "_view_module": "@jupyter-widgets/base",
            "overflow": null,
            "_model_module_version": "1.2.0",
            "_view_count": null,
            "flex_flow": null,
            "width": null,
            "min_width": null,
            "border": null,
            "align_items": null,
            "bottom": null,
            "_model_module": "@jupyter-widgets/base",
            "top": null,
            "grid_column": null,
            "overflow_y": null,
            "overflow_x": null,
            "grid_auto_flow": null,
            "grid_area": null,
            "grid_template_columns": null,
            "flex": null,
            "_model_name": "LayoutModel",
            "justify_items": null,
            "grid_row": null,
            "max_height": null,
            "align_content": null,
            "visibility": null,
            "align_self": null,
            "height": null,
            "min_height": null,
            "padding": null,
            "grid_auto_rows": null,
            "grid_gap": null,
            "max_width": null,
            "order": null,
            "_view_module_version": "1.2.0",
            "grid_template_areas": null,
            "object_position": null,
            "object_fit": null,
            "grid_auto_columns": null,
            "margin": null,
            "display": null,
            "left": null
          }
        },
        "71fa1e28c25a44c48af62b320aaea697": {
          "model_module": "@jupyter-widgets/controls",
          "model_name": "FloatProgressModel",
          "state": {
            "_view_name": "ProgressView",
            "style": "IPY_MODEL_338c4a92ef0f4281abdc719cec163bde",
            "_dom_classes": [],
            "description": "100%",
            "_model_name": "FloatProgressModel",
            "bar_style": "success",
            "max": 1671,
            "_view_module": "@jupyter-widgets/controls",
            "_model_module_version": "1.5.0",
            "value": 1671,
            "_view_count": null,
            "_view_module_version": "1.5.0",
            "orientation": "horizontal",
            "min": 0,
            "description_tooltip": null,
            "_model_module": "@jupyter-widgets/controls",
            "layout": "IPY_MODEL_1b241efca8424f2ba405b69a5a6651c4"
          }
        },
        "b8a28f3daa7e4ae7abba7b7c9e2dcb46": {
          "model_module": "@jupyter-widgets/controls",
          "model_name": "HTMLModel",
          "state": {
            "_view_name": "HTMLView",
            "style": "IPY_MODEL_e144540baf454afb898e9da741e2e301",
            "_dom_classes": [],
            "description": "",
            "_model_name": "HTMLModel",
            "placeholder": "​",
            "_view_module": "@jupyter-widgets/controls",
            "_model_module_version": "1.5.0",
            "value": " 1671/1671 [07:26&lt;00:00,  3.75it/s]",
            "_view_count": null,
            "_view_module_version": "1.5.0",
            "description_tooltip": null,
            "_model_module": "@jupyter-widgets/controls",
            "layout": "IPY_MODEL_09001837acdb40e28a3d13d258ab5e58"
          }
        },
        "338c4a92ef0f4281abdc719cec163bde": {
          "model_module": "@jupyter-widgets/controls",
          "model_name": "ProgressStyleModel",
          "state": {
            "_view_name": "StyleView",
            "_model_name": "ProgressStyleModel",
            "description_width": "initial",
            "_view_module": "@jupyter-widgets/base",
            "_model_module_version": "1.5.0",
            "_view_count": null,
            "_view_module_version": "1.2.0",
            "bar_color": null,
            "_model_module": "@jupyter-widgets/controls"
          }
        },
        "1b241efca8424f2ba405b69a5a6651c4": {
          "model_module": "@jupyter-widgets/base",
          "model_name": "LayoutModel",
          "state": {
            "_view_name": "LayoutView",
            "grid_template_rows": null,
            "right": null,
            "justify_content": null,
            "_view_module": "@jupyter-widgets/base",
            "overflow": null,
            "_model_module_version": "1.2.0",
            "_view_count": null,
            "flex_flow": null,
            "width": null,
            "min_width": null,
            "border": null,
            "align_items": null,
            "bottom": null,
            "_model_module": "@jupyter-widgets/base",
            "top": null,
            "grid_column": null,
            "overflow_y": null,
            "overflow_x": null,
            "grid_auto_flow": null,
            "grid_area": null,
            "grid_template_columns": null,
            "flex": null,
            "_model_name": "LayoutModel",
            "justify_items": null,
            "grid_row": null,
            "max_height": null,
            "align_content": null,
            "visibility": null,
            "align_self": null,
            "height": null,
            "min_height": null,
            "padding": null,
            "grid_auto_rows": null,
            "grid_gap": null,
            "max_width": null,
            "order": null,
            "_view_module_version": "1.2.0",
            "grid_template_areas": null,
            "object_position": null,
            "object_fit": null,
            "grid_auto_columns": null,
            "margin": null,
            "display": null,
            "left": null
          }
        },
        "e144540baf454afb898e9da741e2e301": {
          "model_module": "@jupyter-widgets/controls",
          "model_name": "DescriptionStyleModel",
          "state": {
            "_view_name": "StyleView",
            "_model_name": "DescriptionStyleModel",
            "description_width": "",
            "_view_module": "@jupyter-widgets/base",
            "_model_module_version": "1.5.0",
            "_view_count": null,
            "_view_module_version": "1.2.0",
            "_model_module": "@jupyter-widgets/controls"
          }
        },
        "09001837acdb40e28a3d13d258ab5e58": {
          "model_module": "@jupyter-widgets/base",
          "model_name": "LayoutModel",
          "state": {
            "_view_name": "LayoutView",
            "grid_template_rows": null,
            "right": null,
            "justify_content": null,
            "_view_module": "@jupyter-widgets/base",
            "overflow": null,
            "_model_module_version": "1.2.0",
            "_view_count": null,
            "flex_flow": null,
            "width": null,
            "min_width": null,
            "border": null,
            "align_items": null,
            "bottom": null,
            "_model_module": "@jupyter-widgets/base",
            "top": null,
            "grid_column": null,
            "overflow_y": null,
            "overflow_x": null,
            "grid_auto_flow": null,
            "grid_area": null,
            "grid_template_columns": null,
            "flex": null,
            "_model_name": "LayoutModel",
            "justify_items": null,
            "grid_row": null,
            "max_height": null,
            "align_content": null,
            "visibility": null,
            "align_self": null,
            "height": null,
            "min_height": null,
            "padding": null,
            "grid_auto_rows": null,
            "grid_gap": null,
            "max_width": null,
            "order": null,
            "_view_module_version": "1.2.0",
            "grid_template_areas": null,
            "object_position": null,
            "object_fit": null,
            "grid_auto_columns": null,
            "margin": null,
            "display": null,
            "left": null
          }
        }
      }
    }
  },
  "cells": [
    {
      "cell_type": "markdown",
      "metadata": {
        "id": "view-in-github",
        "colab_type": "text"
      },
      "source": [
        "<a href=\"https://colab.research.google.com/github/snehas3120/Coins-Classification/blob/main/coinsclassification.ipynb\" target=\"_parent\"><img src=\"https://colab.research.google.com/assets/colab-badge.svg\" alt=\"Open In Colab\"/></a>"
      ]
    },
    {
      "cell_type": "code",
      "metadata": {
        "colab": {
          "base_uri": "https://localhost:8080/"
        },
        "id": "iRdWT4Q0aHVe",
        "outputId": "51492b88-3745-4877-c33d-9321d6042ebc"
      },
      "source": [
        "import numpy as np\n",
        "import pandas as pd\n",
        "import matplotlib.pyplot as plt\n",
        "from pathlib import Path\n",
        "from PIL import Image\n",
        "from tqdm import tqdm_notebook as tqdm\n",
        "from sklearn.model_selection import train_test_split\n",
        "import glob\n",
        "\n",
        "%matplotlib "
      ],
      "execution_count": 6,
      "outputs": [
        {
          "output_type": "stream",
          "text": [
            "Using matplotlib backend: agg\n"
          ],
          "name": "stdout"
        }
      ]
    },
    {
      "cell_type": "code",
      "metadata": {
        "id": "uyeTr7SmbgMt"
      },
      "source": [
        "input_path = Path('/content/images')\n",
        "\n",
        "im_size = 320"
      ],
      "execution_count": 61,
      "outputs": []
    },
    {
      "cell_type": "code",
      "metadata": {
        "id": "KYmuAl0JPRWx"
      },
      "source": [
        ""
      ],
      "execution_count": null,
      "outputs": []
    },
    {
      "cell_type": "code",
      "metadata": {
        "id": "dFYzYtUweXa1",
        "colab": {
          "base_uri": "https://localhost:8080/"
        },
        "outputId": "dde7cb0d-54c9-481e-f28c-9b2ad8394612"
      },
      "source": [
        "\n",
        "image_files =list(input_path.glob('*.jpg'))\n",
        "print(image_files)"
      ],
      "execution_count": 62,
      "outputs": [
        {
          "output_type": "stream",
          "text": [
            "[PosixPath('/content/images/5_1477146756.jpg'), PosixPath('/content/images/5_1477146750.jpg'), PosixPath('/content/images/25_1477153962.jpg'), PosixPath('/content/images/10_1477289196.jpg'), PosixPath('/content/images/10_1477288368.jpg'), PosixPath('/content/images/5_1477189500.jpg'), PosixPath('/content/images/25_1477149450.jpg'), PosixPath('/content/images/10_1477289004.jpg'), PosixPath('/content/images/5_1477146954.jpg'), PosixPath('/content/images/25_1477149510.jpg'), PosixPath('/content/images/5_1477289898.jpg'), PosixPath('/content/images/25_1477192020.jpg'), PosixPath('/content/images/5_1477189146.jpg'), PosixPath('/content/images/5_1477147104.jpg'), PosixPath('/content/images/25_1477191576.jpg'), PosixPath('/content/images/5_1477290114.jpg'), PosixPath('/content/images/10_1477288500.jpg'), PosixPath('/content/images/5_1477290486.jpg'), PosixPath('/content/images/10_1477289178.jpg'), PosixPath('/content/images/5_1477290876.jpg'), PosixPath('/content/images/10_1477288746.jpg'), PosixPath('/content/images/5_1477189416.jpg'), PosixPath('/content/images/5_1477290774.jpg'), PosixPath('/content/images/50_1477193280.jpg'), PosixPath('/content/images/10_1477186794.jpg'), PosixPath('/content/images/5_1477146462.jpg'), PosixPath('/content/images/25_1477192140.jpg'), PosixPath('/content/images/5_1477189206.jpg'), PosixPath('/content/images/10_1477289682.jpg'), PosixPath('/content/images/5_1477156872.jpg'), PosixPath('/content/images/25_1477286232.jpg'), PosixPath('/content/images/10_1477147716.jpg'), PosixPath('/content/images/10_1477187148.jpg'), PosixPath('/content/images/10_1477288014.jpg'), PosixPath('/content/images/10_1477147536.jpg'), PosixPath('/content/images/10_1477187184.jpg'), PosixPath('/content/images/5_1477189440.jpg'), PosixPath('/content/images/10_1477289214.jpg'), PosixPath('/content/images/25_1477153956.jpg'), PosixPath('/content/images/5_1477291854.jpg'), PosixPath('/content/images/5_1477291794.jpg'), PosixPath('/content/images/5_1477145502.jpg'), PosixPath('/content/images/10_1477289250.jpg'), PosixPath('/content/images/5_1477146858.jpg'), PosixPath('/content/images/5_1477146978.jpg'), PosixPath('/content/images/50_1477283100.jpg'), PosixPath('/content/images/5_1477291200.jpg'), PosixPath('/content/images/25_1477191450.jpg'), PosixPath('/content/images/10_1477149102.jpg'), PosixPath('/content/images/10_1477187076.jpg'), PosixPath('/content/images/10_1477289136.jpg'), PosixPath('/content/images/25_1477191438.jpg'), PosixPath('/content/images/5_1477189128.jpg'), PosixPath('/content/images/5_1477145460.jpg'), PosixPath('/content/images/5_1477146972.jpg'), PosixPath('/content/images/5_1477146780.jpg'), PosixPath('/content/images/10_1477186446.jpg'), PosixPath('/content/images/5_1477146984.jpg'), PosixPath('/content/images/25_1477149372.jpg'), PosixPath('/content/images/25_1477149324.jpg'), PosixPath('/content/images/25_1477154028.jpg'), PosixPath('/content/images/25_1477192128.jpg'), PosixPath('/content/images/10_1477288680.jpg'), PosixPath('/content/images/25_1477191318.jpg'), PosixPath('/content/images/25_1477285278.jpg'), PosixPath('/content/images/5_1477145472.jpg'), PosixPath('/content/images/25_1477191096.jpg'), PosixPath('/content/images/10_1477147368.jpg'), PosixPath('/content/images/10_1477186824.jpg'), PosixPath('/content/images/5_1477189122.jpg'), PosixPath('/content/images/10_1477289316.jpg'), PosixPath('/content/images/5_1477291692.jpg'), PosixPath('/content/images/25_1477286898.jpg'), PosixPath('/content/images/25_1477192014.jpg'), PosixPath('/content/images/25_1477285884.jpg'), PosixPath('/content/images/5_1477291680.jpg'), PosixPath('/content/images/10_1477288404.jpg'), PosixPath('/content/images/25_1477149504.jpg'), PosixPath('/content/images/10_1477288254.jpg'), PosixPath('/content/images/10_1477149006.jpg'), PosixPath('/content/images/5_1477146966.jpg'), PosixPath('/content/images/10_1477288674.jpg'), PosixPath('/content/images/25_1477191546.jpg'), PosixPath('/content/images/25_1477285512.jpg'), PosixPath('/content/images/5_1477188684.jpg'), PosixPath('/content/images/10_1477288344.jpg'), PosixPath('/content/images/10_1477288602.jpg'), PosixPath('/content/images/25_1477154292.jpg'), PosixPath('/content/images/10_1477288584.jpg'), PosixPath('/content/images/5_1477291836.jpg'), PosixPath('/content/images/10_1477289190.jpg'), PosixPath('/content/images/5_1477189476.jpg'), PosixPath('/content/images/25_1477191744.jpg'), PosixPath('/content/images/25_1477285146.jpg'), PosixPath('/content/images/25_1477191126.jpg'), PosixPath('/content/images/10_1477186350.jpg'), PosixPath('/content/images/10_1477187124.jpg'), PosixPath('/content/images/25_1477191810.jpg'), PosixPath('/content/images/25_1477285584.jpg'), PosixPath('/content/images/5_1477146444.jpg'), PosixPath('/content/images/5_1477292094.jpg'), PosixPath('/content/images/5_1477189464.jpg'), PosixPath('/content/images/25_1477285626.jpg'), PosixPath('/content/images/25_1477191816.jpg'), PosixPath('/content/images/5_1477189398.jpg'), PosixPath('/content/images/5_1477188552.jpg'), PosixPath('/content/images/10_1477288938.jpg'), PosixPath('/content/images/25_1477285164.jpg'), PosixPath('/content/images/5_1477145592.jpg'), PosixPath('/content/images/10_1477186326.jpg'), PosixPath('/content/images/5_1477291116.jpg'), PosixPath('/content/images/5_1477146834.jpg'), PosixPath('/content/images/25_1477191942.jpg'), PosixPath('/content/images/10_1477186440.jpg'), PosixPath('/content/images/5_1477290228.jpg'), PosixPath('/content/images/10_1477186452.jpg'), PosixPath('/content/images/5_1477291062.jpg'), PosixPath('/content/images/5_1477189284.jpg'), PosixPath('/content/images/25_1477191312.jpg'), PosixPath('/content/images/10_1477289238.jpg'), PosixPath('/content/images/25_1477149426.jpg'), PosixPath('/content/images/5_1477145544.jpg'), PosixPath('/content/images/5_1477292046.jpg'), PosixPath('/content/images/25_1477149246.jpg'), PosixPath('/content/images/25_1477192230.jpg'), PosixPath('/content/images/10_1477186740.jpg'), PosixPath('/content/images/5_1477189200.jpg'), PosixPath('/content/images/5_1477290000.jpg'), PosixPath('/content/images/5_1477189446.jpg'), PosixPath('/content/images/10_1477289364.jpg'), PosixPath('/content/images/10_1477289466.jpg'), PosixPath('/content/images/5_1477292130.jpg'), PosixPath('/content/images/5_1477291986.jpg'), PosixPath('/content/images/10_1477185498.jpg'), PosixPath('/content/images/25_1477285476.jpg'), PosixPath('/content/images/5_1477291704.jpg'), PosixPath('/content/images/10_1477186650.jpg'), PosixPath('/content/images/10_1477186686.jpg'), PosixPath('/content/images/5_1477189014.jpg'), PosixPath('/content/images/10_1477288812.jpg'), PosixPath('/content/images/10_1477288476.jpg'), PosixPath('/content/images/10_1477287876.jpg'), PosixPath('/content/images/10_1477186734.jpg'), PosixPath('/content/images/25_1477191774.jpg'), PosixPath('/content/images/25_1477154322.jpg'), PosixPath('/content/images/5_1477156830.jpg'), PosixPath('/content/images/25_1477153890.jpg'), PosixPath('/content/images/5_1477188930.jpg'), PosixPath('/content/images/25_1477285176.jpg'), PosixPath('/content/images/25_1477153902.jpg'), PosixPath('/content/images/10_1477187052.jpg'), PosixPath('/content/images/10_1477149066.jpg'), PosixPath('/content/images/5_1477291782.jpg'), PosixPath('/content/images/5_1477188570.jpg'), PosixPath('/content/images/50_1477139910.jpg'), PosixPath('/content/images/50_1477282422.jpg'), PosixPath('/content/images/5_1477291698.jpg'), PosixPath('/content/images/10_1477288980.jpg'), PosixPath('/content/images/10_1477147740.jpg'), PosixPath('/content/images/5_1477188972.jpg'), PosixPath('/content/images/5_1477145496.jpg'), PosixPath('/content/images/5_1477290006.jpg'), PosixPath('/content/images/5_1477290810.jpg'), PosixPath('/content/images/10_1477288398.jpg'), PosixPath('/content/images/25_1477191828.jpg'), PosixPath('/content/images/25_1477192008.jpg'), PosixPath('/content/images/5_1477291284.jpg'), PosixPath('/content/images/10_1477289184.jpg'), PosixPath('/content/images/10_1477187142.jpg'), PosixPath('/content/images/10_1477289220.jpg'), PosixPath('/content/images/10_1477288998.jpg'), PosixPath('/content/images/25_1477285290.jpg'), PosixPath('/content/images/10_1477185552.jpg'), PosixPath('/content/images/5_1477291890.jpg'), PosixPath('/content/images/5_1477146828.jpg'), PosixPath('/content/images/25_1477285812.jpg'), PosixPath('/content/images/5_1477289826.jpg'), PosixPath('/content/images/10_1477289622.jpg'), PosixPath('/content/images/25_1477149360.jpg'), PosixPath('/content/images/25_1477154256.jpg'), PosixPath('/content/images/10_1477288374.jpg'), PosixPath('/content/images/10_1477288722.jpg'), PosixPath('/content/images/5_1477291806.jpg'), PosixPath('/content/images/5_1477291044.jpg'), PosixPath('/content/images/25_1477191522.jpg'), PosixPath('/content/images/5_1477189170.jpg'), PosixPath('/content/images/25_1477191336.jpg'), PosixPath('/content/images/25_1477149564.jpg'), PosixPath('/content/images/5_1477291956.jpg'), PosixPath('/content/images/25_1477285998.jpg'), PosixPath('/content/images/10_1477288794.jpg'), PosixPath('/content/images/5_1477290318.jpg'), PosixPath('/content/images/5_1477145484.jpg'), PosixPath('/content/images/10_1477186290.jpg'), PosixPath('/content/images/25_1477191138.jpg'), PosixPath('/content/images/5_1477188600.jpg'), PosixPath('/content/images/100_1477154508.jpg'), PosixPath('/content/images/25_1477154190.jpg'), PosixPath('/content/images/10_1477147656.jpg'), PosixPath('/content/images/10_1477185486.jpg'), PosixPath('/content/images/10_1477288470.jpg'), PosixPath('/content/images/5_1477290240.jpg'), PosixPath('/content/images/5_1477289964.jpg'), PosixPath('/content/images/5_1477188576.jpg'), PosixPath('/content/images/5_1477290504.jpg'), PosixPath('/content/images/25_1477191996.jpg'), PosixPath('/content/images/10_1477288032.jpg'), PosixPath('/content/images/100_1477195386.jpg'), PosixPath('/content/images/25_1477285818.jpg'), PosixPath('/content/images/25_1477191342.jpg'), PosixPath('/content/images/25_1477192224.jpg'), PosixPath('/content/images/5_1477290120.jpg'), PosixPath('/content/images/50_1477194360.jpg'), PosixPath('/content/images/10_1477288356.jpg'), PosixPath('/content/images/5_1477188954.jpg'), PosixPath('/content/images/10_1477149048.jpg'), PosixPath('/content/images/10_1477147422.jpg'), PosixPath('/content/images/10_1477147518.jpg'), PosixPath('/content/images/10_1477288836.jpg'), PosixPath('/content/images/5_1477290186.jpg'), PosixPath('/content/images/25_1477149414.jpg'), PosixPath('/content/images/5_1477291026.jpg'), PosixPath('/content/images/25_1477154178.jpg'), PosixPath('/content/images/5_1477147056.jpg'), PosixPath('/content/images/10_1477289370.jpg'), PosixPath('/content/images/10_1477187304.jpg'), PosixPath('/content/images/10_1477186716.jpg'), PosixPath('/content/images/10_1477186938.jpg'), PosixPath('/content/images/5_1477189056.jpg'), PosixPath('/content/images/5_1477189290.jpg'), PosixPath('/content/images/10_1477288362.jpg'), PosixPath('/content/images/10_1477186242.jpg'), PosixPath('/content/images/10_1477289604.jpg'), PosixPath('/content/images/10_1477288416.jpg'), PosixPath('/content/images/25_1477285710.jpg'), PosixPath('/content/images/5_1477147044.jpg'), PosixPath('/content/images/25_1477192062.jpg'), PosixPath('/content/images/10_1477147686.jpg'), PosixPath('/content/images/10_1477287810.jpg'), PosixPath('/content/images/10_1477149144.jpg'), PosixPath('/content/images/25_1477191822.jpg'), PosixPath('/content/images/10_1477148982.jpg'), PosixPath('/content/images/25_1477192074.jpg'), PosixPath('/content/images/5_1477189248.jpg'), PosixPath('/content/images/100_1477279896.jpg'), PosixPath('/content/images/5_1477188606.jpg'), PosixPath('/content/images/5_1477146960.jpg'), PosixPath('/content/images/10_1477187010.jpg'), PosixPath('/content/images/5_1477290864.jpg'), PosixPath('/content/images/10_1477186248.jpg'), PosixPath('/content/images/25_1477149276.jpg'), PosixPath('/content/images/5_1477188702.jpg'), PosixPath('/content/images/50_1477140132.jpg'), PosixPath('/content/images/5_1477188558.jpg'), PosixPath('/content/images/10_1477289226.jpg'), PosixPath('/content/images/25_1477285830.jpg'), PosixPath('/content/images/25_1477191222.jpg'), PosixPath('/content/images/25_1477191420.jpg'), PosixPath('/content/images/5_1477188504.jpg'), PosixPath('/content/images/10_1477187118.jpg'), PosixPath('/content/images/25_1477191168.jpg'), PosixPath('/content/images/25_1477154226.jpg'), PosixPath('/content/images/5_1477188804.jpg'), PosixPath('/content/images/25_1477191678.jpg'), PosixPath('/content/images/5_1477146876.jpg'), PosixPath('/content/images/10_1477186866.jpg'), PosixPath('/content/images/25_1477191780.jpg'), PosixPath('/content/images/5_1477290132.jpg'), PosixPath('/content/images/5_1477147020.jpg'), PosixPath('/content/images/10_1477187154.jpg'), PosixPath('/content/images/25_1477153944.jpg'), PosixPath('/content/images/10_1477288026.jpg'), PosixPath('/content/images/25_1477154172.jpg'), PosixPath('/content/images/25_1477191648.jpg'), PosixPath('/content/images/5_1477290366.jpg'), PosixPath('/content/images/5_1477189002.jpg'), PosixPath('/content/images/25_1477285500.jpg'), PosixPath('/content/images/10_1477147710.jpg'), PosixPath('/content/images/5_1477290432.jpg'), PosixPath('/content/images/5_1477146498.jpg'), PosixPath('/content/images/5_1477291122.jpg'), PosixPath('/content/images/10_1477186476.jpg'), PosixPath('/content/images/5_1477188816.jpg'), PosixPath('/content/images/10_1477289040.jpg'), PosixPath('/content/images/5_1477189326.jpg'), PosixPath('/content/images/10_1477186386.jpg'), PosixPath('/content/images/10_1477288116.jpg'), PosixPath('/content/images/10_1477288152.jpg'), PosixPath('/content/images/10_1477187244.jpg'), PosixPath('/content/images/10_1477288236.jpg'), PosixPath('/content/images/5_1477290858.jpg'), PosixPath('/content/images/10_1477288884.jpg'), PosixPath('/content/images/10_1477186392.jpg'), PosixPath('/content/images/5_1477290510.jpg'), PosixPath('/content/images/25_1477191834.jpg'), PosixPath('/content/images/10_1477288110.jpg'), PosixPath('/content/images/10_1477187388.jpg'), PosixPath('/content/images/25_1477191858.jpg'), PosixPath('/content/images/25_1477149252.jpg'), PosixPath('/content/images/25_1477149234.jpg'), PosixPath('/content/images/5_1477189134.jpg'), PosixPath('/content/images/5_1477291260.jpg'), PosixPath('/content/images/5_1477147026.jpg'), PosixPath('/content/images/10_1477289046.jpg'), PosixPath('/content/images/25_1477153986.jpg'), PosixPath('/content/images/25_1477153932.jpg'), PosixPath('/content/images/5_1477156722.jpg'), PosixPath('/content/images/25_1477191534.jpg'), PosixPath('/content/images/5_1477289802.jpg'), PosixPath('/content/images/5_1477290102.jpg'), PosixPath('/content/images/5_1477291872.jpg'), PosixPath('/content/images/10_1477288194.jpg'), PosixPath('/content/images/10_1477187292.jpg'), PosixPath('/content/images/10_1477289616.jpg'), PosixPath('/content/images/5_1477290306.jpg'), PosixPath('/content/images/25_1477154142.jpg'), PosixPath('/content/images/5_1477291920.jpg'), PosixPath('/content/images/10_1477287846.jpg'), PosixPath('/content/images/10_1477288578.jpg'), PosixPath('/content/images/5_1477145574.jpg'), PosixPath('/content/images/10_1477186302.jpg'), PosixPath('/content/images/25_1477285662.jpg'), PosixPath('/content/images/10_1477289586.jpg'), PosixPath('/content/images/100_1477154460.jpg'), PosixPath('/content/images/5_1477290990.jpg'), PosixPath('/content/images/10_1477288644.jpg'), PosixPath('/content/images/5_1477291926.jpg'), PosixPath('/content/images/5_1477145520.jpg'), PosixPath('/content/images/25_1477149420.jpg'), PosixPath('/content/images/25_1477285128.jpg'), PosixPath('/content/images/5_1477146324.jpg'), PosixPath('/content/images/5_1477146852.jpg'), PosixPath('/content/images/10_1477185444.jpg'), PosixPath('/content/images/10_1477147404.jpg'), PosixPath('/content/images/25_1477191498.jpg'), PosixPath('/content/images/5_1477290762.jpg'), PosixPath('/content/images/25_1477191618.jpg'), PosixPath('/content/images/10_1477186344.jpg'), PosixPath('/content/images/5_1477147014.jpg'), PosixPath('/content/images/10_1477289634.jpg'), PosixPath('/content/images/5_1477290390.jpg'), PosixPath('/content/images/25_1477191348.jpg'), PosixPath('/content/images/10_1477288878.jpg'), PosixPath('/content/images/5_1477290336.jpg'), PosixPath('/content/images/25_1477285860.jpg'), PosixPath('/content/images/10_1477149120.jpg'), PosixPath('/content/images/5_1477156788.jpg'), PosixPath('/content/images/25_1477192284.jpg'), PosixPath('/content/images/10_1477186218.jpg'), PosixPath('/content/images/25_1477192242.jpg'), PosixPath('/content/images/10_1477186872.jpg'), PosixPath('/content/images/5_1477290786.jpg'), PosixPath('/content/images/5_1477291038.jpg'), PosixPath('/content/images/5_1477291002.jpg'), PosixPath('/content/images/10_1477288974.jpg'), PosixPath('/content/images/5_1477189458.jpg'), PosixPath('/content/images/10_1477287960.jpg'), PosixPath('/content/images/10_1477287894.jpg'), PosixPath('/content/images/10_1477187094.jpg'), PosixPath('/content/images/10_1477148976.jpg'), PosixPath('/content/images/10_1477187316.jpg'), PosixPath('/content/images/5_1477147092.jpg'), PosixPath('/content/images/10_1477187208.jpg'), PosixPath('/content/images/10_1477288800.jpg'), PosixPath('/content/images/5_1477289892.jpg'), PosixPath('/content/images/5_1477290822.jpg'), PosixPath('/content/images/5_1477290804.jpg'), PosixPath('/content/images/10_1477287870.jpg'), PosixPath('/content/images/10_1477186776.jpg'), PosixPath('/content/images/5_1477188696.jpg'), PosixPath('/content/images/10_1477288050.jpg'), PosixPath('/content/images/10_1477147650.jpg'), PosixPath('/content/images/5_1477291650.jpg'), PosixPath('/content/images/10_1477288842.jpg'), PosixPath('/content/images/5_1477146474.jpg'), PosixPath('/content/images/5_1477146492.jpg'), PosixPath('/content/images/10_1477288440.jpg'), PosixPath('/content/images/5_1477188492.jpg'), PosixPath('/content/images/5_1477189422.jpg'), PosixPath('/content/images/25_1477191366.jpg'), PosixPath('/content/images/10_1477187352.jpg'), PosixPath('/content/images/10_1477186668.jpg'), PosixPath('/content/images/5_1477146870.jpg'), PosixPath('/content/images/5_1477289880.jpg'), PosixPath('/content/images/5_1477289820.jpg'), PosixPath('/content/images/5_1477156806.jpg'), PosixPath('/content/images/5_1477189278.jpg'), PosixPath('/content/images/5_1477189350.jpg'), PosixPath('/content/images/10_1477187112.jpg'), PosixPath('/content/images/10_1477186986.jpg'), PosixPath('/content/images/10_1477289454.jpg'), PosixPath('/content/images/25_1477153968.jpg'), PosixPath('/content/images/10_1477289244.jpg'), PosixPath('/content/images/10_1477187364.jpg'), PosixPath('/content/images/10_1477186482.jpg'), PosixPath('/content/images/10_1477186236.jpg'), PosixPath('/content/images/100_1477155348.jpg'), PosixPath('/content/images/5_1477290780.jpg'), PosixPath('/content/images/25_1477191174.jpg'), PosixPath('/content/images/10_1477287858.jpg'), PosixPath('/content/images/5_1477146342.jpg'), PosixPath('/content/images/25_1477192158.jpg'), PosixPath('/content/images/25_1477191852.jpg'), PosixPath('/content/images/10_1477289496.jpg'), PosixPath('/content/images/10_1477185522.jpg'), PosixPath('/content/images/10_1477186254.jpg'), PosixPath('/content/images/10_1477288170.jpg'), PosixPath('/content/images/10_1477186260.jpg'), PosixPath('/content/images/10_1477288290.jpg'), PosixPath('/content/images/25_1477285206.jpg'), PosixPath('/content/images/5_1477147002.jpg'), PosixPath('/content/images/5_1477291938.jpg'), PosixPath('/content/images/10_1477288806.jpg'), PosixPath('/content/images/10_1477147560.jpg'), PosixPath('/content/images/25_1477285866.jpg'), PosixPath('/content/images/5_1477146330.jpg'), PosixPath('/content/images/25_1477153974.jpg'), PosixPath('/content/images/25_1477191204.jpg'), PosixPath('/content/images/5_1477189176.jpg'), PosixPath('/content/images/10_1477147488.jpg'), PosixPath('/content/images/5_1477291056.jpg'), PosixPath('/content/images/10_1477288080.jpg'), PosixPath('/content/images/10_1477289346.jpg'), PosixPath('/content/images/5_1477290468.jpg'), PosixPath('/content/images/25_1477192068.jpg'), PosixPath('/content/images/10_1477289664.jpg'), PosixPath('/content/images/25_1477191702.jpg'), PosixPath('/content/images/25_1477285644.jpg'), PosixPath('/content/images/10_1477149072.jpg'), PosixPath('/content/images/5_1477291110.jpg'), PosixPath('/content/images/25_1477191708.jpg'), PosixPath('/content/images/5_1477290276.jpg'), PosixPath('/content/images/10_1477149054.jpg'), PosixPath('/content/images/25_1477285494.jpg'), PosixPath('/content/images/10_1477147482.jpg'), PosixPath('/content/images/10_1477289580.jpg'), PosixPath('/content/images/10_1477149078.jpg'), PosixPath('/content/images/25_1477149528.jpg'), PosixPath('/content/images/10_1477187022.jpg'), PosixPath('/content/images/10_1477187196.jpg'), PosixPath('/content/images/5_1477290396.jpg'), PosixPath('/content/images/5_1477292034.jpg'), PosixPath('/content/images/5_1477290144.jpg'), PosixPath('/content/images/5_1477147068.jpg'), PosixPath('/content/images/10_1477186746.jpg'), PosixPath('/content/images/10_1477289388.jpg'), PosixPath('/content/images/5_1477291686.jpg'), PosixPath('/content/images/5_1477188450.jpg'), PosixPath('/content/images/10_1477185570.jpg'), PosixPath('/content/images/10_1477147614.jpg'), PosixPath('/content/images/10_1477187004.jpg'), PosixPath('/content/images/10_1477289016.jpg'), PosixPath('/content/images/25_1477285158.jpg'), PosixPath('/content/images/10_1477289412.jpg'), PosixPath('/content/images/10_1477149018.jpg'), PosixPath('/content/images/10_1477287798.jpg'), PosixPath('/content/images/10_1477287930.jpg'), PosixPath('/content/images/10_1477187394.jpg'), PosixPath('/content/images/25_1477192164.jpg'), PosixPath('/content/images/25_1477285806.jpg'), PosixPath('/content/images/10_1477288452.jpg'), PosixPath('/content/images/5_1477188672.jpg'), PosixPath('/content/images/25_1477191396.jpg'), PosixPath('/content/images/10_1477288068.jpg'), PosixPath('/content/images/10_1477186818.jpg'), PosixPath('/content/images/5_1477290852.jpg'), PosixPath('/content/images/10_1477186884.jpg'), PosixPath('/content/images/50_1477194252.jpg'), PosixPath('/content/images/25_1477191324.jpg'), PosixPath('/content/images/5_1477146894.jpg'), PosixPath('/content/images/10_1477288062.jpg'), PosixPath('/content/images/25_1477191108.jpg'), PosixPath('/content/images/25_1477191192.jpg'), PosixPath('/content/images/25_1477192302.jpg'), PosixPath('/content/images/10_1477147428.jpg'), PosixPath('/content/images/5_1477292052.jpg'), PosixPath('/content/images/10_1477288122.jpg'), PosixPath('/content/images/5_1477291164.jpg'), PosixPath('/content/images/25_1477154022.jpg'), PosixPath('/content/images/25_1477153926.jpg'), PosixPath('/content/images/10_1477186950.jpg'), PosixPath('/content/images/5_1477290342.jpg'), PosixPath('/content/images/25_1477154202.jpg'), PosixPath('/content/images/10_1477185546.jpg'), PosixPath('/content/images/25_1477191720.jpg'), PosixPath('/content/images/25_1477285248.jpg'), PosixPath('/content/images/50_1477283286.jpg'), PosixPath('/content/images/25_1477191558.jpg'), PosixPath('/content/images/10_1477187082.jpg'), PosixPath('/content/images/100_1477280496.jpg'), PosixPath('/content/images/25_1477192092.jpg'), PosixPath('/content/images/25_1477285224.jpg'), PosixPath('/content/images/5_1477189158.jpg'), PosixPath('/content/images/5_1477188654.jpg'), PosixPath('/content/images/25_1477154154.jpg'), PosixPath('/content/images/10_1477187226.jpg'), PosixPath('/content/images/10_1477288560.jpg'), PosixPath('/content/images/5_1477189182.jpg'), PosixPath('/content/images/5_1477291302.jpg'), PosixPath('/content/images/25_1477153938.jpg'), PosixPath('/content/images/10_1477289208.jpg'), PosixPath('/content/images/25_1477149462.jpg'), PosixPath('/content/images/5_1477189338.jpg'), PosixPath('/content/images/25_1477154310.jpg'), PosixPath('/content/images/25_1477285896.jpg'), PosixPath('/content/images/5_1477146816.jpg'), PosixPath('/content/images/10_1477186680.jpg'), PosixPath('/content/images/10_1477288176.jpg'), PosixPath('/content/images/5_1477289916.jpg'), PosixPath('/content/images/25_1477285302.jpg'), PosixPath('/content/images/10_1477149024.jpg'), PosixPath('/content/images/5_1477292106.jpg'), PosixPath('/content/images/25_1477285380.jpg'), PosixPath('/content/images/5_1477289862.jpg'), PosixPath('/content/images/10_1477186230.jpg'), PosixPath('/content/images/5_1477188486.jpg'), PosixPath('/content/images/10_1477149000.jpg'), PosixPath('/content/images/25_1477153950.jpg'), PosixPath('/content/images/10_1477287828.jpg'), PosixPath('/content/images/25_1477285692.jpg'), PosixPath('/content/images/25_1477149396.jpg'), PosixPath('/content/images/25_1477191978.jpg'), PosixPath('/content/images/5_1477145610.jpg'), PosixPath('/content/images/25_1477192206.jpg'), PosixPath('/content/images/25_1477285704.jpg'), PosixPath('/content/images/5_1477291662.jpg'), PosixPath('/content/images/10_1477289628.jpg'), PosixPath('/content/images/5_1477145586.jpg'), PosixPath('/content/images/10_1477288572.jpg'), PosixPath('/content/images/5_1477156782.jpg'), PosixPath('/content/images/10_1477288566.jpg'), PosixPath('/content/images/10_1477289094.jpg'), PosixPath('/content/images/5_1477290210.jpg'), PosixPath('/content/images/10_1477288590.jpg'), PosixPath('/content/images/10_1477147608.jpg'), PosixPath('/content/images/10_1477187166.jpg'), PosixPath('/content/images/10_1477288392.jpg'), PosixPath('/content/images/5_1477290900.jpg'), PosixPath('/content/images/25_1477191456.jpg'), PosixPath('/content/images/5_1477290966.jpg'), PosixPath('/content/images/25_1477191870.jpg'), PosixPath('/content/images/5_1477290048.jpg'), PosixPath('/content/images/5_1477188516.jpg'), PosixPath('/content/images/25_1477285410.jpg'), PosixPath('/content/images/10_1477287780.jpg'), PosixPath('/content/images/5_1477290402.jpg'), PosixPath('/content/images/10_1477288248.jpg'), PosixPath('/content/images/10_1477288380.jpg'), PosixPath('/content/images/25_1477191408.jpg'), PosixPath('/content/images/5_1477292136.jpg'), PosixPath('/content/images/10_1477289322.jpg'), PosixPath('/content/images/10_1477289442.jpg'), PosixPath('/content/images/5_1477292028.jpg'), PosixPath('/content/images/10_1477289646.jpg'), PosixPath('/content/images/25_1477192290.jpg'), PosixPath('/content/images/5_1477291308.jpg'), PosixPath('/content/images/10_1477187106.jpg'), PosixPath('/content/images/10_1477288518.jpg'), PosixPath('/content/images/5_1477291824.jpg'), PosixPath('/content/images/25_1477191120.jpg'), PosixPath('/content/images/25_1477191252.jpg'), PosixPath('/content/images/25_1477191654.jpg'), PosixPath('/content/images/25_1477285404.jpg'), PosixPath('/content/images/10_1477288446.jpg'), PosixPath('/content/images/5_1477188666.jpg'), PosixPath('/content/images/10_1477288614.jpg'), PosixPath('/content/images/25_1477191594.jpg'), PosixPath('/content/images/5_1477291866.jpg'), PosixPath('/content/images/5_1477291290.jpg'), PosixPath('/content/images/10_1477186782.jpg'), PosixPath('/content/images/10_1477288620.jpg'), PosixPath('/content/images/25_1477154262.jpg'), PosixPath('/content/images/25_1477192296.jpg'), PosixPath('/content/images/100_1477195146.jpg'), PosixPath('/content/images/5_1477188456.jpg'), PosixPath('/content/images/5_1477156728.jpg'), PosixPath('/content/images/5_1477291032.jpg'), PosixPath('/content/images/10_1477288944.jpg'), PosixPath('/content/images/25_1477149228.jpg'), PosixPath('/content/images/25_1477192266.jpg'), PosixPath('/content/images/50_1477282404.jpg'), PosixPath('/content/images/5_1477189452.jpg'), PosixPath('/content/images/25_1477285440.jpg'), PosixPath('/content/images/5_1477291740.jpg'), PosixPath('/content/images/25_1477149210.jpg'), PosixPath('/content/images/25_1477149540.jpg'), PosixPath('/content/images/25_1477285140.jpg'), PosixPath('/content/images/25_1477191750.jpg'), PosixPath('/content/images/5_1477145442.jpg'), PosixPath('/content/images/5_1477291278.jpg'), PosixPath('/content/images/10_1477147386.jpg'), PosixPath('/content/images/5_1477291194.jpg'), PosixPath('/content/images/25_1477285674.jpg'), PosixPath('/content/images/5_1477291764.jpg'), PosixPath('/content/images/25_1477153908.jpg'), PosixPath('/content/images/5_1477156770.jpg'), PosixPath('/content/images/10_1477147674.jpg'), PosixPath('/content/images/5_1477291620.jpg'), PosixPath('/content/images/10_1477147410.jpg'), PosixPath('/content/images/5_1477291608.jpg'), PosixPath('/content/images/25_1477192272.jpg'), PosixPath('/content/images/25_1477191180.jpg'), PosixPath('/content/images/10_1477288764.jpg'), PosixPath('/content/images/5_1477146822.jpg'), PosixPath('/content/images/25_1477154280.jpg'), PosixPath('/content/images/10_1477289430.jpg'), PosixPath('/content/images/10_1477186332.jpg'), PosixPath('/content/images/25_1477191960.jpg'), PosixPath('/content/images/10_1477288692.jpg'), PosixPath('/content/images/5_1477188642.jpg'), PosixPath('/content/images/25_1477285530.jpg'), PosixPath('/content/images/10_1477186890.jpg'), PosixPath('/content/images/5_1477146414.jpg'), PosixPath('/content/images/25_1477191246.jpg'), PosixPath('/content/images/10_1477289058.jpg'), PosixPath('/content/images/10_1477186968.jpg'), PosixPath('/content/images/10_1477289232.jpg'), PosixPath('/content/images/5_1477188810.jpg'), PosixPath('/content/images/100_1477279950.jpg'), PosixPath('/content/images/10_1477288950.jpg'), PosixPath('/content/images/10_1477288848.jpg'), PosixPath('/content/images/25_1477285590.jpg'), PosixPath('/content/images/10_1477186656.jpg'), PosixPath('/content/images/25_1477285596.jpg'), PosixPath('/content/images/25_1477192152.jpg'), PosixPath('/content/images/10_1477289478.jpg'), PosixPath('/content/images/10_1477186770.jpg'), PosixPath('/content/images/10_1477289166.jpg'), PosixPath('/content/images/25_1477285686.jpg'), PosixPath('/content/images/25_1477191738.jpg'), PosixPath('/content/images/25_1477192050.jpg'), PosixPath('/content/images/10_1477186536.jpg'), PosixPath('/content/images/5_1477189368.jpg'), PosixPath('/content/images/25_1477191432.jpg'), PosixPath('/content/images/5_1477291860.jpg'), PosixPath('/content/images/5_1477189356.jpg'), PosixPath('/content/images/5_1477188546.jpg'), PosixPath('/content/images/25_1477191378.jpg'), PosixPath('/content/images/25_1477153992.jpg'), PosixPath('/content/images/5_1477290060.jpg'), PosixPath('/content/images/10_1477288710.jpg'), PosixPath('/content/images/25_1477285728.jpg'), PosixPath('/content/images/5_1477188714.jpg'), PosixPath('/content/images/5_1477156812.jpg'), PosixPath('/content/images/25_1477285638.jpg'), PosixPath('/content/images/5_1477291812.jpg'), PosixPath('/content/images/5_1477291902.jpg'), PosixPath('/content/images/10_1477186980.jpg'), PosixPath('/content/images/10_1477147440.jpg'), PosixPath('/content/images/10_1477187250.jpg'), PosixPath('/content/images/10_1477288386.jpg'), PosixPath('/content/images/10_1477187346.jpg'), PosixPath('/content/images/5_1477290036.jpg'), PosixPath('/content/images/25_1477149486.jpg'), PosixPath('/content/images/10_1477187070.jpg'), PosixPath('/content/images/25_1477192254.jpg'), PosixPath('/content/images/25_1477285758.jpg'), PosixPath('/content/images/25_1477191240.jpg'), PosixPath('/content/images/5_1477146888.jpg'), PosixPath('/content/images/25_1477285458.jpg'), PosixPath('/content/images/10_1477289658.jpg'), PosixPath('/content/images/25_1477191414.jpg'), PosixPath('/content/images/10_1477186560.jpg'), PosixPath('/content/images/10_1477287882.jpg'), PosixPath('/content/images/10_1477149012.jpg'), PosixPath('/content/images/5_1477189188.jpg'), PosixPath('/content/images/10_1477289202.jpg'), PosixPath('/content/images/5_1477292082.jpg'), PosixPath('/content/images/5_1477291842.jpg'), PosixPath('/content/images/10_1477147578.jpg'), PosixPath('/content/images/10_1477186764.jpg'), PosixPath('/content/images/5_1477189242.jpg'), PosixPath('/content/images/5_1477289952.jpg'), PosixPath('/content/images/25_1477149402.jpg'), PosixPath('/content/images/10_1477288872.jpg'), PosixPath('/content/images/25_1477149474.jpg'), PosixPath('/content/images/5_1477291656.jpg'), PosixPath('/content/images/25_1477285680.jpg'), PosixPath('/content/images/25_1477192170.jpg'), PosixPath('/content/images/5_1477145478.jpg'), PosixPath('/content/images/5_1477189332.jpg'), PosixPath('/content/images/25_1477149288.jpg'), PosixPath('/content/images/5_1477189386.jpg'), PosixPath('/content/images/25_1477191570.jpg'), PosixPath('/content/images/5_1477291188.jpg'), PosixPath('/content/images/10_1477287978.jpg'), PosixPath('/content/images/10_1477185450.jpg'), PosixPath('/content/images/5_1477147050.jpg'), PosixPath('/content/images/25_1477191600.jpg'), PosixPath('/content/images/5_1477290084.jpg'), PosixPath('/content/images/10_1477289538.jpg'), PosixPath('/content/images/25_1477285452.jpg'), PosixPath('/content/images/25_1477191156.jpg'), PosixPath('/content/images/10_1477187298.jpg'), PosixPath('/content/images/10_1477186992.jpg'), PosixPath('/content/images/5_1477188966.jpg'), PosixPath('/content/images/5_1477189044.jpg'), PosixPath('/content/images/5_1477290522.jpg'), PosixPath('/content/images/25_1477285386.jpg'), PosixPath('/content/images/5_1477189050.jpg'), PosixPath('/content/images/25_1477191540.jpg'), PosixPath('/content/images/10_1477147392.jpg'), PosixPath('/content/images/10_1477288422.jpg'), PosixPath('/content/images/5_1477290156.jpg'), PosixPath('/content/images/10_1477288296.jpg'), PosixPath('/content/images/25_1477192146.jpg'), PosixPath('/content/images/5_1477290420.jpg'), PosixPath('/content/images/10_1477289376.jpg'), PosixPath('/content/images/10_1477186500.jpg'), PosixPath('/content/images/10_1477187274.jpg'), PosixPath('/content/images/5_1477290030.jpg'), PosixPath('/content/images/10_1477186926.jpg'), PosixPath('/content/images/25_1477285752.jpg'), PosixPath('/content/images/50_1477194402.jpg'), PosixPath('/content/images/5_1477289904.jpg'), PosixPath('/content/images/10_1477186458.jpg'), PosixPath('/content/images/25_1477285398.jpg'), PosixPath('/content/images/5_1477290216.jpg'), PosixPath('/content/images/25_1477153998.jpg'), PosixPath('/content/images/10_1477185540.jpg'), PosixPath('/content/images/25_1477191210.jpg'), PosixPath('/content/images/10_1477288908.jpg'), PosixPath('/content/images/5_1477145556.jpg'), PosixPath('/content/images/5_1477189428.jpg'), PosixPath('/content/images/10_1477289064.jpg'), PosixPath('/content/images/5_1477156800.jpg'), PosixPath('/content/images/5_1477292124.jpg'), PosixPath('/content/images/5_1477146738.jpg'), PosixPath('/content/images/25_1477191624.jpg'), PosixPath('/content/images/5_1477290918.jpg'), PosixPath('/content/images/5_1477289988.jpg'), PosixPath('/content/images/10_1477288512.jpg'), PosixPath('/content/images/5_1477291128.jpg'), PosixPath('/content/images/25_1477153914.jpg'), PosixPath('/content/images/5_1477147098.jpg'), PosixPath('/content/images/25_1477191162.jpg'), PosixPath('/content/images/10_1477186278.jpg'), PosixPath('/content/images/5_1477189236.jpg'), PosixPath('/content/images/5_1477290018.jpg'), PosixPath('/content/images/10_1477287966.jpg'), PosixPath('/content/images/25_1477285536.jpg'), PosixPath('/content/images/25_1477191642.jpg'), PosixPath('/content/images/10_1477147602.jpg'), PosixPath('/content/images/5_1477290270.jpg'), PosixPath('/content/images/25_1477149366.jpg'), PosixPath('/content/images/25_1477191114.jpg'), PosixPath('/content/images/25_1477191090.jpg'), PosixPath('/content/images/10_1477287834.jpg'), PosixPath('/content/images/25_1477285740.jpg'), PosixPath('/content/images/5_1477189020.jpg'), PosixPath('/content/images/10_1477289256.jpg'), PosixPath('/content/images/10_1477289592.jpg'), PosixPath('/content/images/10_1477287942.jpg'), PosixPath('/content/images/5_1477289940.jpg'), PosixPath('/content/images/5_1477156752.jpg'), PosixPath('/content/images/5_1477188984.jpg'), PosixPath('/content/images/5_1477189068.jpg'), PosixPath('/content/images/25_1477191762.jpg'), PosixPath('/content/images/10_1477289640.jpg'), PosixPath('/content/images/5_1477290252.jpg'), PosixPath('/content/images/10_1477287972.jpg'), PosixPath('/content/images/10_1477288734.jpg'), PosixPath('/content/images/10_1477288554.jpg'), PosixPath('/content/images/25_1477149342.jpg'), PosixPath('/content/images/10_1477289676.jpg'), PosixPath('/content/images/5_1477290066.jpg'), PosixPath('/content/images/10_1477186542.jpg'), PosixPath('/content/images/5_1477146456.jpg'), PosixPath('/content/images/25_1477149354.jpg'), PosixPath('/content/images/10_1477288662.jpg'), PosixPath('/content/images/25_1477286040.jpg'), PosixPath('/content/images/10_1477288428.jpg'), PosixPath('/content/images/5_1477156746.jpg'), PosixPath('/content/images/25_1477192026.jpg'), PosixPath('/content/images/10_1477185432.jpg'), PosixPath('/content/images/10_1477147722.jpg'), PosixPath('/content/images/5_1477290888.jpg'), PosixPath('/content/images/25_1477286238.jpg'), PosixPath('/content/images/10_1477288284.jpg'), PosixPath('/content/images/25_1477149438.jpg'), PosixPath('/content/images/25_1477285992.jpg'), PosixPath('/content/images/5_1477188912.jpg'), PosixPath('/content/images/5_1477291758.jpg'), PosixPath('/content/images/5_1477189164.jpg'), PosixPath('/content/images/5_1477289910.jpg'), PosixPath('/content/images/5_1477291212.jpg'), PosixPath('/content/images/25_1477285260.jpg'), PosixPath('/content/images/5_1477145448.jpg'), PosixPath('/content/images/25_1477153878.jpg'), PosixPath('/content/images/25_1477285518.jpg'), PosixPath('/content/images/5_1477188690.jpg'), PosixPath('/content/images/25_1477191990.jpg'), PosixPath('/content/images/5_1477147062.jpg'), PosixPath('/content/images/5_1477291722.jpg'), PosixPath('/content/images/10_1477186308.jpg'), PosixPath('/content/images/5_1477289850.jpg'), PosixPath('/content/images/5_1477290750.jpg'), PosixPath('/content/images/5_1477291896.jpg'), PosixPath('/content/images/5_1477188948.jpg'), PosixPath('/content/images/5_1477188588.jpg'), PosixPath('/content/images/5_1477291908.jpg'), PosixPath('/content/images/10_1477185528.jpg'), PosixPath('/content/images/25_1477285170.jpg'), PosixPath('/content/images/5_1477291950.jpg'), PosixPath('/content/images/5_1477290294.jpg'), PosixPath('/content/images/25_1477191102.jpg'), PosixPath('/content/images/10_1477186380.jpg'), PosixPath('/content/images/25_1477154148.jpg'), PosixPath('/content/images/10_1477186368.jpg'), PosixPath('/content/images/25_1477154220.jpg'), PosixPath('/content/images/10_1477186272.jpg'), PosixPath('/content/images/10_1477289652.jpg'), PosixPath('/content/images/10_1477289394.jpg'), PosixPath('/content/images/5_1477156824.jpg'), PosixPath('/content/images/10_1477149114.jpg'), PosixPath('/content/images/25_1477149216.jpg'), PosixPath('/content/images/10_1477289598.jpg'), PosixPath('/content/images/5_1477146390.jpg'), PosixPath('/content/images/5_1477156740.jpg'), PosixPath('/content/images/10_1477185534.jpg'), PosixPath('/content/images/25_1477149222.jpg'), PosixPath('/content/images/10_1477289076.jpg'), PosixPath('/content/images/5_1477290828.jpg'), PosixPath('/content/images/25_1477154316.jpg'), PosixPath('/content/images/10_1477287816.jpg'), PosixPath('/content/images/25_1477192056.jpg'), PosixPath('/content/images/25_1477287258.jpg'), PosixPath('/content/images/5_1477292112.jpg'), PosixPath('/content/images/10_1477149060.jpg'), PosixPath('/content/images/5_1477291296.jpg'), PosixPath('/content/images/10_1477186566.jpg'), PosixPath('/content/images/25_1477285266.jpg'), PosixPath('/content/images/10_1477288206.jpg'), PosixPath('/content/images/10_1477288002.jpg'), PosixPath('/content/images/10_1477187268.jpg'), PosixPath('/content/images/5_1477146810.jpg'), PosixPath('/content/images/5_1477146426.jpg'), PosixPath('/content/images/100_1477155360.jpg'), PosixPath('/content/images/5_1477290414.jpg'), PosixPath('/content/images/10_1477289562.jpg'), PosixPath('/content/images/5_1477291614.jpg'), PosixPath('/content/images/25_1477149444.jpg'), PosixPath('/content/images/25_1477154232.jpg'), PosixPath('/content/images/5_1477147008.jpg'), PosixPath('/content/images/5_1477189392.jpg'), PosixPath('/content/images/5_1477291086.jpg'), PosixPath('/content/images/10_1477187310.jpg'), PosixPath('/content/images/5_1477290288.jpg'), PosixPath('/content/images/10_1477187256.jpg'), PosixPath('/content/images/10_1477186548.jpg'), PosixPath('/content/images/25_1477191390.jpg'), PosixPath('/content/images/5_1477291752.jpg'), PosixPath('/content/images/50_1477193742.jpg'), PosixPath('/content/images/10_1477186374.jpg'), PosixPath('/content/images/10_1477288134.jpg'), PosixPath('/content/images/5_1477289844.jpg'), PosixPath('/content/images/25_1477149336.jpg'), PosixPath('/content/images/25_1477285698.jpg'), PosixPath('/content/images/5_1477188756.jpg'), PosixPath('/content/images/10_1477288350.jpg'), PosixPath('/content/images/10_1477289280.jpg'), PosixPath('/content/images/5_1477291272.jpg'), PosixPath('/content/images/25_1477149318.jpg'), PosixPath('/content/images/10_1477288866.jpg'), PosixPath('/content/images/5_1477291602.jpg'), PosixPath('/content/images/25_1477191948.jpg'), PosixPath('/content/images/10_1477186518.jpg'), PosixPath('/content/images/10_1477185474.jpg'), PosixPath('/content/images/5_1477290960.jpg'), PosixPath('/content/images/5_1477291974.jpg'), PosixPath('/content/images/25_1477285506.jpg'), PosixPath('/content/images/10_1477289574.jpg'), PosixPath('/content/images/5_1477290894.jpg'), PosixPath('/content/images/5_1477188438.jpg'), PosixPath('/content/images/5_1477290078.jpg'), PosixPath('/content/images/5_1477292076.jpg'), PosixPath('/content/images/5_1477289814.jpg'), PosixPath('/content/images/10_1477187322.jpg'), PosixPath('/content/images/10_1477187334.jpg'), PosixPath('/content/images/10_1477288656.jpg'), PosixPath('/content/images/10_1477289292.jpg'), PosixPath('/content/images/10_1477289490.jpg'), PosixPath('/content/images/5_1477289994.jpg'), PosixPath('/content/images/5_1477188594.jpg'), PosixPath('/content/images/25_1477149306.jpg'), PosixPath('/content/images/25_1477285152.jpg'), PosixPath('/content/images/5_1477291140.jpg'), PosixPath('/content/images/10_1477147446.jpg'), PosixPath('/content/images/10_1477186296.jpg'), PosixPath('/content/images/10_1477147644.jpg'), PosixPath('/content/images/25_1477191846.jpg'), PosixPath('/content/images/25_1477285668.jpg'), PosixPath('/content/images/5_1477290012.jpg'), PosixPath('/content/images/100_1477280520.jpg'), PosixPath('/content/images/25_1477191282.jpg'), PosixPath('/content/images/5_1477290546.jpg'), PosixPath('/content/images/5_1477291770.jpg'), PosixPath('/content/images/10_1477186524.jpg'), PosixPath('/content/images/5_1477145526.jpg'), PosixPath('/content/images/10_1477187100.jpg'), PosixPath('/content/images/10_1477185510.jpg'), PosixPath('/content/images/5_1477289958.jpg'), PosixPath('/content/images/5_1477188918.jpg'), PosixPath('/content/images/5_1477188510.jpg'), PosixPath('/content/images/10_1477186806.jpg'), PosixPath('/content/images/10_1477147704.jpg'), PosixPath('/content/images/50_1477145202.jpg'), PosixPath('/content/images/10_1477289670.jpg'), PosixPath('/content/images/25_1477191726.jpg'), PosixPath('/content/images/25_1477285242.jpg'), PosixPath('/content/images/5_1477290450.jpg'), PosixPath('/content/images/25_1477191504.jpg'), PosixPath('/content/images/5_1477189032.jpg'), PosixPath('/content/images/10_1477289436.jpg'), PosixPath('/content/images/5_1477290474.jpg'), PosixPath('/content/images/5_1477290054.jpg'), PosixPath('/content/images/5_1477291014.jpg'), PosixPath('/content/images/25_1477285236.jpg'), PosixPath('/content/images/10_1477186914.jpg'), PosixPath('/content/images/5_1477145568.jpg'), PosixPath('/content/images/10_1477147584.jpg'), PosixPath('/content/images/25_1477285482.jpg'), PosixPath('/content/images/10_1477187202.jpg'), PosixPath('/content/images/5_1477290258.jpg'), PosixPath('/content/images/10_1477187064.jpg'), PosixPath('/content/images/25_1477285722.jpg'), PosixPath('/content/images/5_1477289832.jpg'), PosixPath('/content/images/10_1477186590.jpg'), PosixPath('/content/images/10_1477288224.jpg'), PosixPath('/content/images/5_1477291668.jpg'), PosixPath('/content/images/10_1477186284.jpg'), PosixPath('/content/images/5_1477292010.jpg'), PosixPath('/content/images/25_1477285272.jpg'), PosixPath('/content/images/5_1477290180.jpg'), PosixPath('/content/images/5_1477290324.jpg'), PosixPath('/content/images/10_1477147680.jpg'), PosixPath('/content/images/10_1477287948.jpg'), PosixPath('/content/images/25_1477191186.jpg'), PosixPath('/content/images/5_1477292088.jpg'), PosixPath('/content/images/10_1477147470.jpg'), PosixPath('/content/images/5_1477290264.jpg'), PosixPath('/content/images/5_1477291206.jpg'), PosixPath('/content/images/5_1477145598.jpg'), PosixPath('/content/images/5_1477290924.jpg'), PosixPath('/content/images/10_1477289034.jpg'), PosixPath('/content/images/10_1477147596.jpg'), PosixPath('/content/images/5_1477291734.jpg'), PosixPath('/content/images/10_1477147620.jpg'), PosixPath('/content/images/25_1477191612.jpg'), PosixPath('/content/images/10_1477288770.jpg'), PosixPath('/content/images/10_1477289406.jpg'), PosixPath('/content/images/25_1477191972.jpg'), PosixPath('/content/images/5_1477291638.jpg'), PosixPath('/content/images/5_1477290756.jpg'), PosixPath('/content/images/25_1477191384.jpg'), PosixPath('/content/images/25_1477149408.jpg'), PosixPath('/content/images/10_1477289688.jpg'), PosixPath('/content/images/5_1477188792.jpg'), PosixPath('/content/images/5_1477291134.jpg'), PosixPath('/content/images/10_1477289142.jpg'), PosixPath('/content/images/5_1477156710.jpg'), PosixPath('/content/images/5_1477291152.jpg'), PosixPath('/content/images/25_1477285464.jpg'), PosixPath('/content/images/10_1477185504.jpg'), PosixPath('/content/images/5_1477291020.jpg'), PosixPath('/content/images/5_1477291596.jpg'), PosixPath('/content/images/10_1477288902.jpg'), PosixPath('/content/images/25_1477149456.jpg'), PosixPath('/content/images/5_1477291230.jpg'), PosixPath('/content/images/25_1477191132.jpg'), PosixPath('/content/images/10_1477289544.jpg'), PosixPath('/content/images/25_1477192044.jpg'), PosixPath('/content/images/5_1477146486.jpg'), PosixPath('/content/images/25_1477154214.jpg'), PosixPath('/content/images/10_1477186338.jpg'), PosixPath('/content/images/5_1477291644.jpg'), PosixPath('/content/images/10_1477288740.jpg'), PosixPath('/content/images/5_1477156818.jpg'), PosixPath('/content/images/10_1477289694.jpg'), PosixPath('/content/images/5_1477289796.jpg'), PosixPath('/content/images/25_1477192218.jpg'), PosixPath('/content/images/25_1477191930.jpg'), PosixPath('/content/images/25_1477285614.jpg'), PosixPath('/content/images/5_1477145580.jpg'), PosixPath('/content/images/25_1477154034.jpg'), PosixPath('/content/images/10_1477186512.jpg'), PosixPath('/content/images/10_1477186728.jpg'), PosixPath('/content/images/5_1477146438.jpg'), PosixPath('/content/images/5_1477146372.jpg'), PosixPath('/content/images/10_1477288182.jpg'), PosixPath('/content/images/5_1477189362.jpg'), PosixPath('/content/images/25_1477285230.jpg'), PosixPath('/content/images/5_1477188522.jpg'), PosixPath('/content/images/10_1477289274.jpg'), PosixPath('/content/images/5_1477291746.jpg'), PosixPath('/content/images/25_1477154238.jpg'), PosixPath('/content/images/10_1477186470.jpg'), PosixPath('/content/images/5_1477291992.jpg'), PosixPath('/content/images/5_1477291170.jpg'), PosixPath('/content/images/5_1477156848.jpg'), PosixPath('/content/images/10_1477287984.jpg'), PosixPath('/content/images/25_1477191216.jpg'), PosixPath('/content/images/25_1477285572.jpg'), PosixPath('/content/images/25_1477287012.jpg'), PosixPath('/content/images/5_1477291932.jpg'), PosixPath('/content/images/25_1477285632.jpg'), PosixPath('/content/images/10_1477289556.jpg'), PosixPath('/content/images/5_1477290948.jpg'), PosixPath('/content/images/10_1477287906.jpg'), PosixPath('/content/images/5_1477290534.jpg'), PosixPath('/content/images/5_1477188738.jpg'), PosixPath('/content/images/10_1477288302.jpg'), PosixPath('/content/images/5_1477189038.jpg'), PosixPath('/content/images/10_1477147524.jpg'), PosixPath('/content/images/10_1477288716.jpg'), PosixPath('/content/images/25_1477285446.jpg'), PosixPath('/content/images/10_1477288488.jpg'), PosixPath('/content/images/25_1477285770.jpg'), PosixPath('/content/images/5_1477188900.jpg'), PosixPath('/content/images/5_1477292004.jpg'), PosixPath('/content/images/5_1477291674.jpg'), PosixPath('/content/images/25_1477192038.jpg'), PosixPath('/content/images/10_1477288218.jpg'), PosixPath('/content/images/5_1477189140.jpg'), PosixPath('/content/images/25_1477285578.jpg'), PosixPath('/content/images/50_1477282962.jpg'), PosixPath('/content/images/5_1477290162.jpg'), PosixPath('/content/images/5_1477290138.jpg'), PosixPath('/content/images/25_1477149294.jpg'), PosixPath('/content/images/25_1477191954.jpg'), PosixPath('/content/images/25_1477285656.jpg'), PosixPath('/content/images/10_1477186488.jpg'), PosixPath('/content/images/10_1477186464.jpg'), PosixPath('/content/images/10_1477288788.jpg'), PosixPath('/content/images/5_1477291104.jpg'), PosixPath('/content/images/25_1477149282.jpg'), PosixPath('/content/images/25_1477154160.jpg'), PosixPath('/content/images/25_1477191426.jpg'), PosixPath('/content/images/25_1477154046.jpg'), PosixPath('/content/images/10_1477289334.jpg'), PosixPath('/content/images/5_1477188468.jpg'), PosixPath('/content/images/5_1477156854.jpg'), PosixPath('/content/images/100_1477195434.jpg'), PosixPath('/content/images/10_1477187190.jpg'), PosixPath('/content/images/10_1477147734.jpg'), PosixPath('/content/images/10_1477288506.jpg'), PosixPath('/content/images/10_1477186998.jpg'), PosixPath('/content/images/10_1477288668.jpg'), PosixPath('/content/images/25_1477285962.jpg'), PosixPath('/content/images/5_1477290834.jpg'), PosixPath('/content/images/5_1477289922.jpg'), PosixPath('/content/images/5_1477146840.jpg'), PosixPath('/content/images/5_1477290234.jpg'), PosixPath('/content/images/10_1477288782.jpg'), PosixPath('/content/images/25_1477286010.jpg'), PosixPath('/content/images/5_1477146354.jpg'), PosixPath('/content/images/10_1477289172.jpg'), PosixPath('/content/images/25_1477286892.jpg'), PosixPath('/content/images/10_1477186902.jpg'), PosixPath('/content/images/10_1477186752.jpg'), PosixPath('/content/images/5_1477290222.jpg'), PosixPath('/content/images/25_1477191864.jpg'), PosixPath('/content/images/10_1477288458.jpg'), PosixPath('/content/images/25_1477191516.jpg'), PosixPath('/content/images/10_1477288086.jpg'), PosixPath('/content/images/25_1477285848.jpg'), PosixPath('/content/images/5_1477146378.jpg'), PosixPath('/content/images/5_1477145466.jpg'), PosixPath('/content/images/10_1477187340.jpg'), PosixPath('/content/images/5_1477290024.jpg'), PosixPath('/content/images/10_1477288272.jpg'), PosixPath('/content/images/25_1477285422.jpg'), PosixPath('/content/images/10_1477288596.jpg'), PosixPath('/content/images/10_1477147668.jpg'), PosixPath('/content/images/5_1477156758.jpg'), PosixPath('/content/images/10_1477149042.jpg'), PosixPath('/content/images/5_1477189008.jpg'), PosixPath('/content/images/5_1477289808.jpg'), PosixPath('/content/images/5_1477291818.jpg'), PosixPath('/content/images/5_1477290126.jpg'), PosixPath('/content/images/5_1477289970.jpg'), PosixPath('/content/images/10_1477289340.jpg'), PosixPath('/content/images/10_1477287918.jpg'), PosixPath('/content/images/25_1477285122.jpg'), PosixPath('/content/images/25_1477191354.jpg'), PosixPath('/content/images/25_1477192002.jpg'), PosixPath('/content/images/5_1477291050.jpg'), PosixPath('/content/images/5_1477188894.jpg'), PosixPath('/content/images/25_1477285134.jpg'), PosixPath('/content/images/5_1477188780.jpg'), PosixPath('/content/images/10_1477289418.jpg'), PosixPath('/content/images/10_1477288626.jpg'), PosixPath('/content/images/5_1477146732.jpg'), PosixPath('/content/images/5_1477290282.jpg'), PosixPath('/content/images/5_1477156764.jpg'), PosixPath('/content/images/5_1477156842.jpg'), PosixPath('/content/images/10_1477186320.jpg'), PosixPath('/content/images/25_1477287240.jpg'), PosixPath('/content/images/25_1477192182.jpg'), PosixPath('/content/images/10_1477287924.jpg'), PosixPath('/content/images/10_1477287912.jpg'), PosixPath('/content/images/25_1477285776.jpg'), PosixPath('/content/images/10_1477147380.jpg'), PosixPath('/content/images/25_1477149558.jpg'), PosixPath('/content/images/10_1477187130.jpg'), PosixPath('/content/images/5_1477146948.jpg'), PosixPath('/content/images/5_1477188564.jpg'), PosixPath('/content/images/5_1477145454.jpg'), PosixPath('/content/images/5_1477290798.jpg'), PosixPath('/content/images/5_1477188990.jpg'), PosixPath('/content/images/25_1477154052.jpg'), PosixPath('/content/images/10_1477289298.jpg'), PosixPath('/content/images/10_1477288986.jpg'), PosixPath('/content/images/5_1477156716.jpg'), PosixPath('/content/images/10_1477287792.jpg'), PosixPath('/content/images/5_1477290348.jpg'), PosixPath('/content/images/25_1477191840.jpg'), PosixPath('/content/images/10_1477287774.jpg'), PosixPath('/content/images/5_1477146420.jpg'), PosixPath('/content/images/25_1477192188.jpg'), PosixPath('/content/images/5_1477188462.jpg'), PosixPath('/content/images/25_1477285650.jpg'), PosixPath('/content/images/10_1477187046.jpg'), PosixPath('/content/images/5_1477145616.jpg'), PosixPath('/content/images/25_1477191582.jpg'), PosixPath('/content/images/25_1477191300.jpg'), PosixPath('/content/images/10_1477149126.jpg'), PosixPath('/content/images/5_1477292022.jpg'), PosixPath('/content/images/10_1477147374.jpg'), PosixPath('/content/images/25_1477191672.jpg'), PosixPath('/content/images/10_1477288854.jpg'), PosixPath('/content/images/5_1477291218.jpg'), PosixPath('/content/images/25_1477191528.jpg'), PosixPath('/content/images/10_1477147542.jpg'), PosixPath('/content/images/10_1477185582.jpg'), PosixPath('/content/images/25_1477191756.jpg'), PosixPath('/content/images/5_1477290072.jpg'), PosixPath('/content/images/5_1477290246.jpg'), PosixPath('/content/images/5_1477146996.jpg'), PosixPath('/content/images/5_1477189380.jpg'), PosixPath('/content/images/25_1477154286.jpg'), PosixPath('/content/images/10_1477289424.jpg'), PosixPath('/content/images/5_1477290456.jpg'), PosixPath('/content/images/10_1477187376.jpg'), PosixPath('/content/images/10_1477288008.jpg'), PosixPath('/content/images/10_1477147662.jpg'), PosixPath('/content/images/10_1477186896.jpg'), PosixPath('/content/images/10_1477186704.jpg'), PosixPath('/content/images/10_1477187232.jpg'), PosixPath('/content/images/25_1477149468.jpg'), PosixPath('/content/images/5_1477289838.jpg'), PosixPath('/content/images/5_1477145604.jpg'), PosixPath('/content/images/25_1477191792.jpg'), PosixPath('/content/images/5_1477290912.jpg'), PosixPath('/content/images/10_1477289448.jpg'), PosixPath('/content/images/10_1477187286.jpg'), PosixPath('/content/images/10_1477289358.jpg'), PosixPath('/content/images/5_1477188786.jpg'), PosixPath('/content/images/25_1477285392.jpg'), PosixPath('/content/images/10_1477289610.jpg'), PosixPath('/content/images/25_1477191144.jpg'), PosixPath('/content/images/10_1477147416.jpg'), PosixPath('/content/images/25_1477149534.jpg'), PosixPath('/content/images/10_1477185480.jpg'), PosixPath('/content/images/5_1477290192.jpg'), PosixPath('/content/images/5_1477189254.jpg'), PosixPath('/content/images/5_1477188942.jpg'), PosixPath('/content/images/5_1477292118.jpg'), PosixPath('/content/images/10_1477289028.jpg'), PosixPath('/content/images/25_1477192212.jpg'), PosixPath('/content/images/5_1477290540.jpg'), PosixPath('/content/images/10_1477289526.jpg'), PosixPath('/content/images/25_1477285602.jpg'), PosixPath('/content/images/25_1477149312.jpg'), PosixPath('/content/images/10_1477186722.jpg'), PosixPath('/content/images/5_1477146744.jpg'), PosixPath('/content/images/10_1477288464.jpg'), PosixPath('/content/images/5_1477290996.jpg'), PosixPath('/content/images/25_1477191288.jpg'), PosixPath('/content/images/5_1477291800.jpg'), PosixPath('/content/images/10_1477148988.jpg'), PosixPath('/content/images/10_1477288434.jpg'), PosixPath('/content/images/25_1477286412.jpg'), PosixPath('/content/images/10_1477186710.jpg'), PosixPath('/content/images/5_1477291962.jpg'), PosixPath('/content/images/10_1477187172.jpg'), PosixPath('/content/images/25_1477191588.jpg'), PosixPath('/content/images/25_1477191306.jpg'), PosixPath('/content/images/10_1477288320.jpg'), PosixPath('/content/images/10_1477288212.jpg'), PosixPath('/content/images/10_1477288638.jpg'), PosixPath('/content/images/10_1477186920.jpg'), PosixPath('/content/images/25_1477285782.jpg'), PosixPath('/content/images/10_1477289052.jpg'), PosixPath('/content/images/25_1477191666.jpg'), PosixPath('/content/images/5_1477290882.jpg'), PosixPath('/content/images/25_1477285428.jpg'), PosixPath('/content/images/5_1477188726.jpg'), PosixPath('/content/images/5_1477189026.jpg'), PosixPath('/content/images/5_1477291728.jpg'), PosixPath('/content/images/10_1477147728.jpg'), PosixPath('/content/images/25_1477192086.jpg'), PosixPath('/content/images/10_1477289010.jpg'), PosixPath('/content/images/10_1477288896.jpg'), PosixPath('/content/images/50_1477281984.jpg'), PosixPath('/content/images/5_1477146798.jpg'), PosixPath('/content/images/25_1477285764.jpg'), PosixPath('/content/images/10_1477147494.jpg'), PosixPath('/content/images/5_1477291248.jpg'), PosixPath('/content/images/10_1477288494.jpg'), PosixPath('/content/images/5_1477292100.jpg'), PosixPath('/content/images/10_1477289148.jpg'), PosixPath('/content/images/10_1477186506.jpg'), PosixPath('/content/images/10_1477288992.jpg'), PosixPath('/content/images/10_1477287996.jpg'), PosixPath('/content/images/5_1477188744.jpg'), PosixPath('/content/images/25_1477191552.jpg'), PosixPath('/content/images/10_1477149138.jpg'), PosixPath('/content/images/5_1477146402.jpg'), PosixPath('/content/images/25_1477154250.jpg'), PosixPath('/content/images/25_1477149204.jpg'), PosixPath('/content/images/5_1477291074.jpg'), PosixPath('/content/images/5_1477290792.jpg'), PosixPath('/content/images/5_1477290426.jpg'), PosixPath('/content/images/25_1477285218.jpg'), PosixPath('/content/images/10_1477289154.jpg'), PosixPath('/content/images/5_1477189410.jpg'), PosixPath('/content/images/25_1477149264.jpg'), PosixPath('/content/images/5_1477292058.jpg'), PosixPath('/content/images/10_1477288704.jpg'), PosixPath('/content/images/10_1477288188.jpg'), PosixPath('/content/images/5_1477189434.jpg'), PosixPath('/content/images/5_1477290198.jpg'), PosixPath('/content/images/5_1477291980.jpg'), PosixPath('/content/images/10_1477288104.jpg'), PosixPath('/content/images/25_1477154268.jpg'), PosixPath('/content/images/5_1477291068.jpg'), PosixPath('/content/images/10_1477147506.jpg'), PosixPath('/content/images/5_1477188762.jpg'), PosixPath('/content/images/25_1477154166.jpg'), PosixPath('/content/images/10_1477289124.jpg'), PosixPath('/content/images/10_1477187136.jpg'), PosixPath('/content/images/5_1477289874.jpg'), PosixPath('/content/images/100_1477280916.jpg'), PosixPath('/content/images/10_1477149108.jpg'), PosixPath('/content/images/5_1477291080.jpg'), PosixPath('/content/images/5_1477146384.jpg'), PosixPath('/content/images/5_1477189266.jpg'), PosixPath('/content/images/10_1477289070.jpg'), PosixPath('/content/images/10_1477187280.jpg'), PosixPath('/content/images/25_1477191234.jpg'), PosixPath('/content/images/5_1477291008.jpg'), PosixPath('/content/images/10_1477287936.jpg'), PosixPath('/content/images/10_1477288128.jpg'), PosixPath('/content/images/5_1477188444.jpg'), PosixPath('/content/images/10_1477288824.jpg'), PosixPath('/content/images/10_1477187160.jpg'), PosixPath('/content/images/5_1477290498.jpg'), PosixPath('/content/images/5_1477290312.jpg'), PosixPath('/content/images/5_1477145562.jpg'), PosixPath('/content/images/10_1477288632.jpg'), PosixPath('/content/images/5_1477146468.jpg'), PosixPath('/content/images/5_1477146882.jpg'), PosixPath('/content/images/10_1477185576.jpg'), PosixPath('/content/images/10_1477147590.jpg'), PosixPath('/content/images/10_1477289268.jpg'), PosixPath('/content/images/5_1477289946.jpg'), PosixPath('/content/images/10_1477287852.jpg'), PosixPath('/content/images/5_1477145538.jpg'), PosixPath('/content/images/10_1477187178.jpg'), PosixPath('/content/images/100_1477154472.jpg'), PosixPath('/content/images/5_1477290954.jpg'), PosixPath('/content/images/5_1477292070.jpg'), PosixPath('/content/images/25_1477285488.jpg'), PosixPath('/content/images/10_1477288758.jpg'), PosixPath('/content/images/25_1477192098.jpg'), PosixPath('/content/images/10_1477289484.jpg'), PosixPath('/content/images/10_1477186932.jpg'), PosixPath('/content/images/10_1477186878.jpg'), PosixPath('/content/images/25_1477154040.jpg'), PosixPath('/content/images/25_1477285284.jpg'), PosixPath('/content/images/5_1477291266.jpg'), PosixPath('/content/images/10_1477289532.jpg'), PosixPath('/content/images/100_1477279902.jpg'), PosixPath('/content/images/5_1477291224.jpg'), PosixPath('/content/images/25_1477154010.jpg'), PosixPath('/content/images/25_1477153920.jpg'), PosixPath('/content/images/25_1477285524.jpg'), PosixPath('/content/images/10_1477186758.jpg'), PosixPath('/content/images/25_1477149432.jpg'), PosixPath('/content/images/10_1477187040.jpg'), PosixPath('/content/images/10_1477185414.jpg'), PosixPath('/content/images/5_1477188720.jpg'), PosixPath('/content/images/10_1477147530.jpg'), PosixPath('/content/images/25_1477149258.jpg'), PosixPath('/content/images/10_1477149030.jpg'), PosixPath('/content/images/5_1477188768.jpg'), PosixPath('/content/images/10_1477288044.jpg'), PosixPath('/content/images/5_1477290408.jpg'), PosixPath('/content/images/5_1477147080.jpg'), PosixPath('/content/images/5_1477290978.jpg'), PosixPath('/content/images/5_1477145490.jpg'), PosixPath('/content/images/25_1477192176.jpg'), PosixPath('/content/images/5_1477156734.jpg'), PosixPath('/content/images/100_1477154934.jpg'), PosixPath('/content/images/10_1477289262.jpg'), PosixPath('/content/images/5_1477188996.jpg'), PosixPath('/content/images/25_1477285608.jpg'), PosixPath('/content/images/10_1477185564.jpg'), PosixPath('/content/images/25_1477191732.jpg'), PosixPath('/content/images/5_1477146762.jpg'), PosixPath('/content/images/10_1477288098.jpg'), PosixPath('/content/images/10_1477147434.jpg'), PosixPath('/content/images/25_1477191660.jpg'), PosixPath('/content/images/10_1477187088.jpg'), PosixPath('/content/images/10_1477288962.jpg'), PosixPath('/content/images/5_1477291632.jpg'), PosixPath('/content/images/100_1477281276.jpg'), PosixPath('/content/images/10_1477187370.jpg'), PosixPath('/content/images/25_1477154244.jpg'), PosixPath('/content/images/10_1477186692.jpg'), PosixPath('/content/images/10_1477289550.jpg'), PosixPath('/content/images/10_1477288074.jpg'), PosixPath('/content/images/10_1477186584.jpg'), PosixPath('/content/images/25_1477285416.jpg'), PosixPath('/content/images/25_1477285182.jpg'), PosixPath('/content/images/5_1477156698.jpg'), PosixPath('/content/images/5_1477291884.jpg'), PosixPath('/content/images/5_1477188906.jpg'), PosixPath('/content/images/25_1477287246.jpg'), PosixPath('/content/images/10_1477288308.jpg'), PosixPath('/content/images/5_1477290372.jpg'), PosixPath('/content/images/10_1477186698.jpg'), PosixPath('/content/images/25_1477285212.jpg'), PosixPath('/content/images/5_1477189404.jpg'), PosixPath('/content/images/5_1477291878.jpg'), PosixPath('/content/images/10_1477289088.jpg'), PosixPath('/content/images/5_1477291626.jpg'), PosixPath('/content/images/5_1477290816.jpg'), PosixPath('/content/images/10_1477187328.jpg'), PosixPath('/content/images/10_1477288548.jpg'), PosixPath('/content/images/10_1477288752.jpg'), PosixPath('/content/images/5_1477291848.jpg'), PosixPath('/content/images/5_1477188498.jpg'), PosixPath('/content/images/25_1477191804.jpg'), PosixPath('/content/images/5_1477189344.jpg'), PosixPath('/content/images/10_1477185426.jpg'), PosixPath('/content/images/5_1477291944.jpg'), PosixPath('/content/images/25_1477149546.jpg'), PosixPath('/content/images/5_1477292148.jpg'), PosixPath('/content/images/25_1477191510.jpg'), PosixPath('/content/images/25_1477191696.jpg'), PosixPath('/content/images/10_1477287864.jpg'), PosixPath('/content/images/5_1477188660.jpg'), PosixPath('/content/images/10_1477147464.jpg'), PosixPath('/content/images/25_1477285542.jpg'), PosixPath('/content/images/25_1477191372.jpg'), PosixPath('/content/images/10_1477186974.jpg'), PosixPath('/content/images/10_1477288230.jpg'), PosixPath('/content/images/10_1477186854.jpg'), PosixPath('/content/images/10_1477185420.jpg'), PosixPath('/content/images/25_1477191402.jpg'), PosixPath('/content/images/10_1477187400.jpg'), PosixPath('/content/images/5_1477289886.jpg'), PosixPath('/content/images/25_1477191924.jpg'), PosixPath('/content/images/25_1477287252.jpg'), PosixPath('/content/images/10_1477186578.jpg'), PosixPath('/content/images/25_1477191714.jpg'), PosixPath('/content/images/10_1477288242.jpg'), PosixPath('/content/images/25_1477149270.jpg'), PosixPath('/content/images/10_1477186224.jpg'), PosixPath('/content/images/10_1477185462.jpg'), PosixPath('/content/images/5_1477156794.jpg'), PosixPath('/content/images/25_1477149348.jpg'), PosixPath('/content/images/25_1477285188.jpg'), PosixPath('/content/images/10_1477186962.jpg'), PosixPath('/content/images/25_1477191360.jpg'), PosixPath('/content/images/10_1477185408.jpg'), PosixPath('/content/images/10_1477186662.jpg'), PosixPath('/content/images/5_1477146864.jpg'), PosixPath('/content/images/5_1477188582.jpg'), PosixPath('/content/images/5_1477156860.jpg'), PosixPath('/content/images/10_1477289106.jpg'), PosixPath('/content/images/25_1477154196.jpg'), PosixPath('/content/images/10_1477149090.jpg'), PosixPath('/content/images/5_1477188924.jpg'), PosixPath('/content/images/5_1477289928.jpg'), PosixPath('/content/images/10_1477187058.jpg'), PosixPath('/content/images/50_1477282254.jpg'), PosixPath('/content/images/5_1477290384.jpg'), PosixPath('/content/images/5_1477146900.jpg'), PosixPath('/content/images/5_1477291146.jpg'), PosixPath('/content/images/25_1477285548.jpg'), PosixPath('/content/images/5_1477188978.jpg'), PosixPath('/content/images/25_1477192200.jpg'), PosixPath('/content/images/10_1477288278.jpg'), PosixPath('/content/images/5_1477290516.jpg'), PosixPath('/content/images/5_1477290870.jpg'), PosixPath('/content/images/10_1477186956.jpg'), PosixPath('/content/images/5_1477188750.jpg'), PosixPath('/content/images/25_1477149390.jpg'), PosixPath('/content/images/25_1477154304.jpg'), PosixPath('/content/images/5_1477290150.jpg'), PosixPath('/content/images/10_1477289520.jpg'), PosixPath('/content/images/10_1477186908.jpg'), PosixPath('/content/images/10_1477186788.jpg'), PosixPath('/content/images/5_1477189272.jpg'), PosixPath('/content/images/10_1477288686.jpg'), PosixPath('/content/images/10_1477149096.jpg'), PosixPath('/content/images/5_1477188540.jpg'), PosixPath('/content/images/25_1477286250.jpg'), PosixPath('/content/images/5_1477291998.jpg'), PosixPath('/content/images/10_1477187028.jpg'), PosixPath('/content/images/10_1477287804.jpg'), PosixPath('/content/images/5_1477189488.jpg'), PosixPath('/content/images/10_1477186944.jpg'), PosixPath('/content/images/5_1477290480.jpg'), PosixPath('/content/images/5_1477291098.jpg'), PosixPath('/content/images/5_1477290444.jpg'), PosixPath('/content/images/10_1477147638.jpg'), PosixPath('/content/images/10_1477289352.jpg'), PosixPath('/content/images/25_1477285716.jpg'), PosixPath('/content/images/5_1477290840.jpg'), PosixPath('/content/images/5_1477289868.jpg'), PosixPath('/content/images/10_1477186422.jpg'), PosixPath('/content/images/25_1477149552.jpg'), PosixPath('/content/images/5_1477188798.jpg'), PosixPath('/content/images/5_1477188678.jpg'), PosixPath('/content/images/10_1477187238.jpg'), PosixPath('/content/images/10_1477288608.jpg'), PosixPath('/content/images/25_1477285800.jpg'), PosixPath('/content/images/10_1477289100.jpg'), PosixPath('/content/images/10_1477186860.jpg'), PosixPath('/content/images/5_1477290042.jpg'), PosixPath('/content/images/25_1477191606.jpg'), PosixPath('/content/images/25_1477191258.jpg'), PosixPath('/content/images/25_1477285788.jpg'), PosixPath('/content/images/5_1477147086.jpg'), PosixPath('/content/images/10_1477147500.jpg'), PosixPath('/content/images/10_1477186530.jpg'), PosixPath('/content/images/10_1477288698.jpg'), PosixPath('/content/images/5_1477156704.jpg'), PosixPath('/content/images/5_1477290930.jpg'), PosixPath('/content/images/10_1477147452.jpg'), PosixPath('/content/images/5_1477156866.jpg'), PosixPath('/content/images/10_1477187358.jpg'), PosixPath('/content/images/10_1477147572.jpg'), PosixPath('/content/images/10_1477287786.jpg'), PosixPath('/content/images/5_1477146336.jpg'), PosixPath('/content/images/25_1477285470.jpg'), PosixPath('/content/images/10_1477288968.jpg'), PosixPath('/content/images/5_1477290330.jpg'), PosixPath('/content/images/25_1477191198.jpg'), PosixPath('/content/images/10_1477186416.jpg'), PosixPath('/content/images/10_1477288776.jpg'), PosixPath('/content/images/10_1477186314.jpg'), PosixPath('/content/images/10_1477288146.jpg'), PosixPath('/content/images/10_1477287822.jpg'), PosixPath('/content/images/25_1477191330.jpg'), PosixPath('/content/images/10_1477288650.jpg'), PosixPath('/content/images/5_1477189374.jpg'), PosixPath('/content/images/5_1477292142.jpg'), PosixPath('/content/images/25_1477191636.jpg'), PosixPath('/content/images/5_1477146804.jpg'), PosixPath('/content/images/10_1477288020.jpg'), PosixPath('/content/images/5_1477146348.jpg'), PosixPath('/content/images/5_1477147032.jpg'), PosixPath('/content/images/5_1477291830.jpg'), PosixPath('/content/images/10_1477185438.jpg'), PosixPath('/content/images/5_1477291914.jpg'), PosixPath('/content/images/25_1477285200.jpg'), PosixPath('/content/images/5_1477289934.jpg'), PosixPath('/content/images/25_1477191984.jpg'), PosixPath('/content/images/25_1477149330.jpg'), PosixPath('/content/images/10_1477289286.jpg'), PosixPath('/content/images/25_1477191768.jpg'), PosixPath('/content/images/5_1477291254.jpg'), PosixPath('/content/images/5_1477146792.jpg'), PosixPath('/content/images/5_1477290906.jpg'), PosixPath('/content/images/5_1477189224.jpg'), PosixPath('/content/images/25_1477149240.jpg'), PosixPath('/content/images/10_1477186674.jpg'), PosixPath('/content/images/5_1477189194.jpg'), PosixPath('/content/images/5_1477146786.jpg'), PosixPath('/content/images/25_1477149498.jpg'), PosixPath('/content/images/5_1477290096.jpg'), PosixPath('/content/images/5_1477188528.jpg'), PosixPath('/content/images/10_1477289160.jpg'), PosixPath('/content/images/10_1477186800.jpg'), PosixPath('/content/images/5_1477291710.jpg'), PosixPath('/content/images/5_1477188960.jpg'), PosixPath('/content/images/25_1477191786.jpg'), PosixPath('/content/images/10_1477186428.jpg'), PosixPath('/content/images/25_1477285254.jpg'), PosixPath('/content/images/10_1477186434.jpg'), PosixPath('/content/images/5_1477146768.jpg'), PosixPath('/content/images/10_1477186362.jpg'), PosixPath('/content/images/25_1477285434.jpg'), PosixPath('/content/images/10_1477287840.jpg'), PosixPath('/content/images/5_1477189218.jpg'), PosixPath('/content/images/5_1477291242.jpg'), PosixPath('/content/images/10_1477289382.jpg'), PosixPath('/content/images/25_1477192260.jpg'), PosixPath('/content/images/5_1477146846.jpg'), PosixPath('/content/images/5_1477188936.jpg'), PosixPath('/content/images/5_1477145532.jpg'), PosixPath('/content/images/10_1477288860.jpg'), PosixPath('/content/images/10_1477149132.jpg'), PosixPath('/content/images/10_1477186494.jpg'), PosixPath('/content/images/5_1477146906.jpg'), PosixPath('/content/images/5_1477146408.jpg'), PosixPath('/content/images/10_1477147512.jpg'), PosixPath('/content/images/5_1477290300.jpg'), PosixPath('/content/images/5_1477188774.jpg'), PosixPath('/content/images/5_1477290972.jpg'), PosixPath('/content/images/10_1477186356.jpg'), PosixPath('/content/images/25_1477149378.jpg'), PosixPath('/content/images/100_1477194630.jpg'), PosixPath('/content/images/5_1477145514.jpg'), PosixPath('/content/images/5_1477291092.jpg'), PosixPath('/content/images/5_1477290492.jpg'), PosixPath('/content/images/10_1477147398.jpg'), PosixPath('/content/images/10_1477287900.jpg'), PosixPath('/content/images/5_1477292016.jpg'), PosixPath('/content/images/10_1477288056.jpg'), PosixPath('/content/images/5_1477291176.jpg'), PosixPath('/content/images/5_1477189116.jpg'), PosixPath('/content/images/25_1477154274.jpg'), PosixPath('/content/images/25_1477153896.jpg'), PosixPath('/content/images/5_1477156836.jpg'), PosixPath('/content/images/25_1477285842.jpg'), PosixPath('/content/images/10_1477147698.jpg'), PosixPath('/content/images/25_1477191294.jpg'), PosixPath('/content/images/5_1477189062.jpg'), PosixPath('/content/images/5_1477290354.jpg'), PosixPath('/content/images/25_1477154016.jpg'), PosixPath('/content/images/25_1477192194.jpg'), PosixPath('/content/images/25_1477149516.jpg'), PosixPath('/content/images/25_1477191228.jpg'), PosixPath('/content/images/5_1477291716.jpg'), PosixPath('/content/images/10_1477186554.jpg'), PosixPath('/content/images/5_1477291182.jpg'), PosixPath('/content/images/5_1477147074.jpg'), PosixPath('/content/images/10_1477185558.jpg'), PosixPath('/content/images/25_1477153884.jpg'), PosixPath('/content/images/5_1477189482.jpg'), PosixPath('/content/images/10_1477289082.jpg'), PosixPath('/content/images/10_1477289328.jpg'), PosixPath('/content/images/100_1477279620.jpg'), PosixPath('/content/images/5_1477188474.jpg'), PosixPath('/content/images/25_1477285296.jpg'), PosixPath('/content/images/25_1477192236.jpg'), PosixPath('/content/images/5_1477290438.jpg'), PosixPath('/content/images/10_1477288830.jpg'), PosixPath('/content/images/10_1477289022.jpg'), PosixPath('/content/images/10_1477288200.jpg'), PosixPath('/content/images/25_1477154208.jpg'), PosixPath('/content/images/25_1477154184.jpg'), PosixPath('/content/images/10_1477149084.jpg'), PosixPath('/content/images/5_1477291236.jpg'), PosixPath('/content/images/5_1477291788.jpg'), PosixPath('/content/images/5_1477289856.jpg'), PosixPath('/content/images/25_1477285794.jpg'), PosixPath('/content/images/5_1477146942.jpg'), PosixPath('/content/images/10_1477288818.jpg'), PosixPath('/content/images/10_1477185516.jpg'), PosixPath('/content/images/50_1477282014.jpg'), PosixPath('/content/images/5_1477290984.jpg'), PosixPath('/content/images/5_1477146990.jpg'), PosixPath('/content/images/25_1477154004.jpg'), PosixPath('/content/images/25_1477191444.jpg'), PosixPath('/content/images/25_1477149492.jpg'), PosixPath('/content/images/10_1477147458.jpg'), PosixPath('/content/images/25_1477191966.jpg'), PosixPath('/content/images/25_1477191564.jpg'), PosixPath('/content/images/5_1477290462.jpg'), PosixPath('/content/images/10_1477288158.jpg'), PosixPath('/content/images/5_1477146912.jpg'), PosixPath('/content/images/25_1477192278.jpg'), PosixPath('/content/images/5_1477189260.jpg'), PosixPath('/content/images/5_1477290090.jpg'), PosixPath('/content/images/5_1477146936.jpg'), PosixPath('/content/images/10_1477149036.jpg'), PosixPath('/content/images/100_1477280442.jpg'), PosixPath('/content/images/5_1477145550.jpg'), PosixPath('/content/images/10_1477289400.jpg'), PosixPath('/content/images/5_1477146480.jpg'), PosixPath('/content/images/5_1477146396.jpg'), PosixPath('/content/images/25_1477285734.jpg'), PosixPath('/content/images/25_1477192248.jpg'), PosixPath('/content/images/25_1477285824.jpg'), PosixPath('/content/images/25_1477154058.jpg'), PosixPath('/content/images/10_1477288932.jpg'), PosixPath('/content/images/25_1477149300.jpg'), PosixPath('/content/images/25_1477191798.jpg'), PosixPath('/content/images/5_1477290768.jpg'), PosixPath('/content/images/25_1477154298.jpg'), PosixPath('/content/images/25_1477191150.jpg'), PosixPath('/content/images/10_1477288266.jpg'), PosixPath('/content/images/5_1477188534.jpg'), PosixPath('/content/images/10_1477185492.jpg'), PosixPath('/content/images/5_1477290204.jpg'), PosixPath('/content/images/100_1477281294.jpg'), PosixPath('/content/images/10_1477149150.jpg'), PosixPath('/content/images/10_1477187016.jpg'), PosixPath('/content/images/25_1477192080.jpg'), PosixPath('/content/images/25_1477191264.jpg'), PosixPath('/content/images/5_1477147038.jpg'), PosixPath('/content/images/5_1477145436.jpg'), PosixPath('/content/images/5_1477290378.jpg'), PosixPath('/content/images/10_1477187382.jpg'), PosixPath('/content/images/10_1477147692.jpg'), PosixPath('/content/images/10_1477186812.jpg'), PosixPath('/content/images/25_1477192134.jpg'), PosixPath('/content/images/5_1477189212.jpg'), PosixPath('/content/images/10_1477147566.jpg'), PosixPath('/content/images/10_1477288890.jpg'), PosixPath('/content/images/25_1477191630.jpg'), PosixPath('/content/images/5_1477189494.jpg'), PosixPath('/content/images/5_1477291158.jpg'), PosixPath('/content/images/25_1477149522.jpg'), PosixPath('/content/images/5_1477290108.jpg'), PosixPath('/content/images/5_1477188648.jpg'), PosixPath('/content/images/25_1477285194.jpg'), PosixPath('/content/images/5_1477189230.jpg'), PosixPath('/content/images/10_1477287888.jpg'), PosixPath('/content/images/5_1477290528.jpg'), PosixPath('/content/images/10_1477186266.jpg'), PosixPath('/content/images/10_1477288410.jpg'), PosixPath('/content/images/10_1477148994.jpg'), PosixPath('/content/images/5_1477189470.jpg'), PosixPath('/content/images/5_1477188480.jpg'), PosixPath('/content/images/5_1477188708.jpg'), PosixPath('/content/images/10_1477289568.jpg'), PosixPath('/content/images/10_1477187262.jpg'), PosixPath('/content/images/5_1477156776.jpg'), PosixPath('/content/images/25_1477285620.jpg'), PosixPath('/content/images/10_1477147632.jpg'), PosixPath('/content/images/10_1477185456.jpg'), PosixPath('/content/images/10_1477287990.jpg'), PosixPath('/content/images/5_1477292064.jpg'), PosixPath('/content/images/25_1477285566.jpg'), PosixPath('/content/images/10_1477288314.jpg'), PosixPath('/content/images/5_1477292040.jpg'), PosixPath('/content/images/10_1477187214.jpg'), PosixPath('/content/images/10_1477186572.jpg'), PosixPath('/content/images/10_1477185468.jpg'), PosixPath('/content/images/10_1477147476.jpg'), PosixPath('/content/images/10_1477288164.jpg'), PosixPath('/content/images/10_1477288482.jpg'), PosixPath('/content/images/100_1477281378.jpg'), PosixPath('/content/images/25_1477286244.jpg'), PosixPath('/content/images/10_1477289472.jpg'), PosixPath('/content/images/25_1477192032.jpg'), PosixPath('/content/images/25_1477286442.jpg'), PosixPath('/content/images/5_1477188612.jpg'), PosixPath('/content/images/10_1477288542.jpg'), PosixPath('/content/images/5_1477189152.jpg'), PosixPath('/content/images/10_1477288956.jpg'), PosixPath('/content/images/25_1477191936.jpg'), PosixPath('/content/images/10_1477289460.jpg'), PosixPath('/content/images/10_1477288260.jpg'), PosixPath('/content/images/5_1477188732.jpg'), PosixPath('/content/images/5_1477145508.jpg'), PosixPath('/content/images/5_1477290846.jpg'), PosixPath('/content/images/25_1477285836.jpg'), PosixPath('/content/images/10_1477288038.jpg'), PosixPath('/content/images/10_1477289130.jpg'), PosixPath('/content/images/10_1477288092.jpg'), PosixPath('/content/images/25_1477285554.jpg'), PosixPath('/content/images/10_1477147626.jpg')]\n"
          ],
          "name": "stdout"
        }
      ]
    },
    {
      "cell_type": "code",
      "metadata": {
        "id": "nhKuNsgSl1LZ"
      },
      "source": [
        ""
      ],
      "execution_count": null,
      "outputs": []
    },
    {
      "cell_type": "code",
      "metadata": {
        "id": "XCYkVvuVbnFb"
      },
      "source": [
        ""
      ],
      "execution_count": null,
      "outputs": []
    },
    {
      "cell_type": "code",
      "metadata": {
        "id": "bHH-JyDebqRr"
      },
      "source": [
        "def read_file(fname):\n",
        "    # Read image\n",
        "    im = Image.open(fname)\n",
        "\n",
        "    # Resize\n",
        "    im.thumbnail((im_size, im_size))\n",
        "\n",
        "    # Convert to numpy array\n",
        "    im_array = np.asarray(im)\n",
        "\n",
        "    # Get target\n",
        "    target = int(fname.stem.split('_')[0])\n",
        "\n",
        "    return im_array, target"
      ],
      "execution_count": 66,
      "outputs": []
    },
    {
      "cell_type": "code",
      "metadata": {
        "id": "nvjZLccDbttb",
        "colab": {
          "base_uri": "https://localhost:8080/",
          "height": 117,
          "referenced_widgets": [
            "d209825173c24596b6be31fdd641acca",
            "b2c3b85079ce441982c7839bd479de73",
            "71fa1e28c25a44c48af62b320aaea697",
            "b8a28f3daa7e4ae7abba7b7c9e2dcb46",
            "338c4a92ef0f4281abdc719cec163bde",
            "1b241efca8424f2ba405b69a5a6651c4",
            "e144540baf454afb898e9da741e2e301",
            "09001837acdb40e28a3d13d258ab5e58"
          ]
        },
        "outputId": "6c15acf8-fb16-4480-82a5-458b37a1dd12"
      },
      "source": [
        "\n",
        "images = []\n",
        "targets = []\n",
        "\n",
        "for image_file  in  tqdm(image_files):\n",
        "\n",
        "    \n",
        "    image, target = read_file(image_file)\n",
        "    \n",
        "    images.append(image)\n",
        "    targets.append(target)"
      ],
      "execution_count": 67,
      "outputs": [
        {
          "output_type": "stream",
          "text": [
            "/usr/local/lib/python3.7/dist-packages/ipykernel_launcher.py:5: TqdmDeprecationWarning: This function will be removed in tqdm==5.0.0\n",
            "Please use `tqdm.notebook.tqdm` instead of `tqdm.tqdm_notebook`\n",
            "  \"\"\"\n"
          ],
          "name": "stderr"
        },
        {
          "output_type": "display_data",
          "data": {
            "application/vnd.jupyter.widget-view+json": {
              "model_id": "d209825173c24596b6be31fdd641acca",
              "version_minor": 0,
              "version_major": 2
            },
            "text/plain": [
              "HBox(children=(FloatProgress(value=0.0, max=1671.0), HTML(value='')))"
            ]
          },
          "metadata": {
            "tags": []
          }
        },
        {
          "output_type": "stream",
          "text": [
            "\n"
          ],
          "name": "stdout"
        }
      ]
    },
    {
      "cell_type": "code",
      "metadata": {
        "id": "loz5klI0cony"
      },
      "source": [
        "X = (np.array(images).astype(np.float32) / 127.5) - 1\n",
        "y_cls = np.array(targets)"
      ],
      "execution_count": 68,
      "outputs": []
    },
    {
      "cell_type": "code",
      "metadata": {
        "colab": {
          "base_uri": "https://localhost:8080/"
        },
        "id": "qBu6uipOdVCh",
        "outputId": "115dc46d-a66f-4642-8a48-1cda2a70bc91"
      },
      "source": [
        "X.shape, y_cls.shape"
      ],
      "execution_count": 69,
      "outputs": [
        {
          "output_type": "execute_result",
          "data": {
            "text/plain": [
              "((1671, 240, 320, 3), (1671,))"
            ]
          },
          "metadata": {
            "tags": []
          },
          "execution_count": 69
        }
      ]
    },
    {
      "cell_type": "code",
      "metadata": {
        "id": "klkYXas2eZ8n",
        "colab": {
          "base_uri": "https://localhost:8080/"
        },
        "outputId": "59b9b08c-40ba-40be-a192-e3386b3f533e"
      },
      "source": [
        "coins_ids = {\n",
        "    5: 0,\n",
        "    10: 1,\n",
        "    25: 2,\n",
        "    50: 3,\n",
        "    100: 4\n",
        "}\n",
        "\n",
        "ids_coins = [5, 10, 25, 50, 100]\n",
        "\n",
        "y = np.array([coins_ids.get(coin) for coin in y_cls])\n",
        "print(y)"
      ],
      "execution_count": 70,
      "outputs": [
        {
          "output_type": "stream",
          "text": [
            "[0 0 2 ... 1 2 1]\n"
          ],
          "name": "stdout"
        }
      ]
    },
    {
      "cell_type": "code",
      "metadata": {
        "id": "hjBwx4ACegjH"
      },
      "source": [
        "X_train, X_valid, y_train, y_valid, fname_train, fname_valid = train_test_split(\n",
        "    X, y, image_files, test_size=0.2, random_state=42)"
      ],
      "execution_count": 71,
      "outputs": []
    },
    {
      "cell_type": "code",
      "metadata": {
        "id": "f-RpIMnMelqH",
        "colab": {
          "base_uri": "https://localhost:8080/"
        },
        "outputId": "78cb7ba0-a6c7-4e45-e562-d4a7921588c7"
      },
      "source": [
        "im_width = X.shape[2]\n",
        "im_height = X.shape[1]\n",
        "\n",
        "im_width, im_height"
      ],
      "execution_count": 72,
      "outputs": [
        {
          "output_type": "execute_result",
          "data": {
            "text/plain": [
              "(320, 240)"
            ]
          },
          "metadata": {
            "tags": []
          },
          "execution_count": 72
        }
      ]
    },
    {
      "cell_type": "code",
      "metadata": {
        "id": "sZELxQ-aerkO"
      },
      "source": [
        "from keras.models import Sequential\n",
        "from keras.layers import Conv2D, MaxPool2D, Flatten, GlobalAvgPool2D, GlobalMaxPool2D, Dense\n",
        "from keras.optimizers import Adam\n",
        "from keras.callbacks import ReduceLROnPlateau, ModelCheckpoint, EarlyStopping"
      ],
      "execution_count": 73,
      "outputs": []
    },
    {
      "cell_type": "code",
      "metadata": {
        "id": "bPPUrGjzetom",
        "colab": {
          "base_uri": "https://localhost:8080/"
        },
        "outputId": "69ebd68f-63f8-4ec0-d120-28577f66281e"
      },
      "source": [
        "model = Sequential()\n",
        "# CNN network\n",
        "model.add( Conv2D(16, 3, activation='relu', padding='same', input_shape=(im_height, im_width, 3)) )\n",
        "model.add( MaxPool2D(2) )\n",
        "\n",
        "model.add( Conv2D(32, 3, activation='relu', padding='same') )\n",
        "model.add( MaxPool2D(2) )\n",
        "\n",
        "model.add( Conv2D(64, 3, activation='relu', padding='same') )\n",
        "model.add( MaxPool2D(2) )\n",
        "\n",
        "model.add( Conv2D(128, 3, activation='relu', padding='same') )\n",
        "model.add( MaxPool2D(2) )\n",
        "\n",
        "model.add( Conv2D(256, 3, activation='relu', padding='same') )\n",
        "\n",
        "# Transition between CNN and MLP\n",
        "model.add( GlobalAvgPool2D() )\n",
        "\n",
        "# MLP network\n",
        "model.add( Dense(256, activation='relu') )\n",
        "\n",
        "model.add( Dense(5, activation='softmax') )\n",
        "\n",
        "model.summary()"
      ],
      "execution_count": 74,
      "outputs": [
        {
          "output_type": "stream",
          "text": [
            "Model: \"sequential_4\"\n",
            "_________________________________________________________________\n",
            "Layer (type)                 Output Shape              Param #   \n",
            "=================================================================\n",
            "conv2d_5 (Conv2D)            (None, 240, 320, 16)      448       \n",
            "_________________________________________________________________\n",
            "max_pooling2d_4 (MaxPooling2 (None, 120, 160, 16)      0         \n",
            "_________________________________________________________________\n",
            "conv2d_6 (Conv2D)            (None, 120, 160, 32)      4640      \n",
            "_________________________________________________________________\n",
            "max_pooling2d_5 (MaxPooling2 (None, 60, 80, 32)        0         \n",
            "_________________________________________________________________\n",
            "conv2d_7 (Conv2D)            (None, 60, 80, 64)        18496     \n",
            "_________________________________________________________________\n",
            "max_pooling2d_6 (MaxPooling2 (None, 30, 40, 64)        0         \n",
            "_________________________________________________________________\n",
            "conv2d_8 (Conv2D)            (None, 30, 40, 128)       73856     \n",
            "_________________________________________________________________\n",
            "max_pooling2d_7 (MaxPooling2 (None, 15, 20, 128)       0         \n",
            "_________________________________________________________________\n",
            "conv2d_9 (Conv2D)            (None, 15, 20, 256)       295168    \n",
            "_________________________________________________________________\n",
            "global_average_pooling2d_1 ( (None, 256)               0         \n",
            "_________________________________________________________________\n",
            "dense_2 (Dense)              (None, 256)               65792     \n",
            "_________________________________________________________________\n",
            "dense_3 (Dense)              (None, 5)                 1285      \n",
            "=================================================================\n",
            "Total params: 459,685\n",
            "Trainable params: 459,685\n",
            "Non-trainable params: 0\n",
            "_________________________________________________________________\n"
          ],
          "name": "stdout"
        }
      ]
    },
    {
      "cell_type": "code",
      "metadata": {
        "id": "_MxQP54xe4vI",
        "colab": {
          "base_uri": "https://localhost:8080/"
        },
        "outputId": "078a23da-d36a-407c-a8cb-f782b5060fec"
      },
      "source": [
        "optim = Adam(lr=1e-3)\n",
        "model.compile(optim, 'sparse_categorical_crossentropy', metrics=['acc'])\n",
        "callbacks = [\n",
        "    ReduceLROnPlateau(patience=5, factor=0.1, verbose=True),\n",
        "    ModelCheckpoint('best.model', save_best_only=True),\n",
        "    EarlyStopping(patience=12)\n",
        "]\n",
        "\n",
        "history = model.fit(X_train, y_train, epochs=2000, validation_data=(X_valid, y_valid), batch_size=32,\n",
        "                   callbacks=callbacks)\n",
        "model.evaluate(X_valid, y_valid)\n",
        "\n",
        "y_pred = model.predict(X_valid)\n",
        "y_pred_cls = y_pred.argmax(1)\n",
        "errors = np.where(y_pred_cls != y_valid)[0]\n",
        "errors"
      ],
      "execution_count": 75,
      "outputs": [
        {
          "output_type": "stream",
          "text": [
            "Epoch 1/2000\n",
            "42/42 [==============================] - 121s 3s/step - loss: 1.3503 - acc: 0.3067 - val_loss: 1.1873 - val_acc: 0.3493\n",
            "INFO:tensorflow:Assets written to: best.model/assets\n",
            "Epoch 2/2000\n",
            "42/42 [==============================] - 131s 3s/step - loss: 1.1986 - acc: 0.3209 - val_loss: 1.1880 - val_acc: 0.3881\n",
            "Epoch 3/2000\n",
            "42/42 [==============================] - 122s 3s/step - loss: 1.1736 - acc: 0.3717 - val_loss: 1.1815 - val_acc: 0.3493\n",
            "INFO:tensorflow:Assets written to: best.model/assets\n",
            "Epoch 4/2000\n",
            "42/42 [==============================] - 126s 3s/step - loss: 1.2008 - acc: 0.3573 - val_loss: 1.1703 - val_acc: 0.3791\n",
            "INFO:tensorflow:Assets written to: best.model/assets\n",
            "Epoch 5/2000\n",
            "42/42 [==============================] - 122s 3s/step - loss: 1.1763 - acc: 0.3718 - val_loss: 1.1269 - val_acc: 0.5015\n",
            "INFO:tensorflow:Assets written to: best.model/assets\n",
            "Epoch 6/2000\n",
            "42/42 [==============================] - 122s 3s/step - loss: 1.1853 - acc: 0.4227 - val_loss: 1.1113 - val_acc: 0.3851\n",
            "INFO:tensorflow:Assets written to: best.model/assets\n",
            "Epoch 7/2000\n",
            "42/42 [==============================] - 122s 3s/step - loss: 1.1513 - acc: 0.4322 - val_loss: 1.1804 - val_acc: 0.4000\n",
            "Epoch 8/2000\n",
            "42/42 [==============================] - 127s 3s/step - loss: 1.1355 - acc: 0.4003 - val_loss: 1.1235 - val_acc: 0.4209\n",
            "Epoch 9/2000\n",
            "42/42 [==============================] - 122s 3s/step - loss: 1.1412 - acc: 0.4450 - val_loss: 1.1752 - val_acc: 0.3940\n",
            "Epoch 10/2000\n",
            "42/42 [==============================] - 121s 3s/step - loss: 1.2106 - acc: 0.4058 - val_loss: 1.0941 - val_acc: 0.4507\n",
            "INFO:tensorflow:Assets written to: best.model/assets\n",
            "Epoch 11/2000\n",
            "42/42 [==============================] - 121s 3s/step - loss: 1.0946 - acc: 0.4983 - val_loss: 1.1065 - val_acc: 0.4597\n",
            "Epoch 12/2000\n",
            "42/42 [==============================] - 121s 3s/step - loss: 1.0556 - acc: 0.5325 - val_loss: 1.2153 - val_acc: 0.5134\n",
            "Epoch 13/2000\n",
            "42/42 [==============================] - 120s 3s/step - loss: 1.1084 - acc: 0.4995 - val_loss: 0.9532 - val_acc: 0.6179\n",
            "INFO:tensorflow:Assets written to: best.model/assets\n",
            "Epoch 14/2000\n",
            "42/42 [==============================] - 120s 3s/step - loss: 0.8377 - acc: 0.7019 - val_loss: 0.5235 - val_acc: 0.8358\n",
            "INFO:tensorflow:Assets written to: best.model/assets\n",
            "Epoch 15/2000\n",
            "42/42 [==============================] - 120s 3s/step - loss: 0.5381 - acc: 0.8345 - val_loss: 0.6737 - val_acc: 0.7373\n",
            "Epoch 16/2000\n",
            "42/42 [==============================] - 120s 3s/step - loss: 0.4717 - acc: 0.8440 - val_loss: 0.3440 - val_acc: 0.8806\n",
            "INFO:tensorflow:Assets written to: best.model/assets\n",
            "Epoch 17/2000\n",
            "42/42 [==============================] - 120s 3s/step - loss: 0.4036 - acc: 0.8673 - val_loss: 0.2436 - val_acc: 0.9313\n",
            "INFO:tensorflow:Assets written to: best.model/assets\n",
            "Epoch 18/2000\n",
            "42/42 [==============================] - 121s 3s/step - loss: 0.2729 - acc: 0.9019 - val_loss: 0.6648 - val_acc: 0.7552\n",
            "Epoch 19/2000\n",
            "42/42 [==============================] - 121s 3s/step - loss: 0.3129 - acc: 0.8817 - val_loss: 0.3404 - val_acc: 0.9313\n",
            "Epoch 20/2000\n",
            "42/42 [==============================] - 121s 3s/step - loss: 0.2324 - acc: 0.9285 - val_loss: 0.1851 - val_acc: 0.9284\n",
            "INFO:tensorflow:Assets written to: best.model/assets\n",
            "Epoch 21/2000\n",
            "42/42 [==============================] - 120s 3s/step - loss: 0.2344 - acc: 0.9269 - val_loss: 0.3360 - val_acc: 0.8716\n",
            "Epoch 22/2000\n",
            "42/42 [==============================] - 121s 3s/step - loss: 0.2479 - acc: 0.9079 - val_loss: 0.2497 - val_acc: 0.9284\n",
            "Epoch 23/2000\n",
            "42/42 [==============================] - 120s 3s/step - loss: 0.2057 - acc: 0.9295 - val_loss: 0.2280 - val_acc: 0.9552\n",
            "Epoch 24/2000\n",
            "42/42 [==============================] - 121s 3s/step - loss: 0.1610 - acc: 0.9544 - val_loss: 0.1613 - val_acc: 0.9552\n",
            "INFO:tensorflow:Assets written to: best.model/assets\n",
            "Epoch 25/2000\n",
            "42/42 [==============================] - 121s 3s/step - loss: 0.1179 - acc: 0.9583 - val_loss: 0.2532 - val_acc: 0.9104\n",
            "Epoch 26/2000\n",
            "42/42 [==============================] - 121s 3s/step - loss: 0.1548 - acc: 0.9453 - val_loss: 0.1573 - val_acc: 0.9522\n",
            "INFO:tensorflow:Assets written to: best.model/assets\n",
            "Epoch 27/2000\n",
            "42/42 [==============================] - 121s 3s/step - loss: 0.1077 - acc: 0.9581 - val_loss: 0.1907 - val_acc: 0.9463\n",
            "Epoch 28/2000\n",
            "42/42 [==============================] - 121s 3s/step - loss: 0.1115 - acc: 0.9617 - val_loss: 0.1697 - val_acc: 0.9552\n",
            "Epoch 29/2000\n",
            "42/42 [==============================] - 121s 3s/step - loss: 0.0902 - acc: 0.9655 - val_loss: 0.2396 - val_acc: 0.9284\n",
            "Epoch 30/2000\n",
            "42/42 [==============================] - 121s 3s/step - loss: 0.1234 - acc: 0.9621 - val_loss: 0.1552 - val_acc: 0.9642\n",
            "INFO:tensorflow:Assets written to: best.model/assets\n",
            "Epoch 31/2000\n",
            "42/42 [==============================] - 120s 3s/step - loss: 0.1763 - acc: 0.9464 - val_loss: 0.1715 - val_acc: 0.9522\n",
            "Epoch 32/2000\n",
            "42/42 [==============================] - 120s 3s/step - loss: 0.0883 - acc: 0.9724 - val_loss: 0.1460 - val_acc: 0.9612\n",
            "INFO:tensorflow:Assets written to: best.model/assets\n",
            "Epoch 33/2000\n",
            "42/42 [==============================] - 120s 3s/step - loss: 0.0697 - acc: 0.9766 - val_loss: 0.1080 - val_acc: 0.9642\n",
            "INFO:tensorflow:Assets written to: best.model/assets\n",
            "Epoch 34/2000\n",
            "42/42 [==============================] - 121s 3s/step - loss: 0.1642 - acc: 0.9367 - val_loss: 0.1103 - val_acc: 0.9672\n",
            "Epoch 35/2000\n",
            "42/42 [==============================] - 119s 3s/step - loss: 0.0543 - acc: 0.9852 - val_loss: 0.1914 - val_acc: 0.9582\n",
            "Epoch 36/2000\n",
            "42/42 [==============================] - 119s 3s/step - loss: 0.0797 - acc: 0.9772 - val_loss: 0.3865 - val_acc: 0.9015\n",
            "Epoch 37/2000\n",
            "42/42 [==============================] - 119s 3s/step - loss: 0.2464 - acc: 0.9027 - val_loss: 0.1237 - val_acc: 0.9672\n",
            "Epoch 38/2000\n",
            "42/42 [==============================] - 119s 3s/step - loss: 0.0859 - acc: 0.9803 - val_loss: 0.1210 - val_acc: 0.9701\n",
            "\n",
            "Epoch 00038: ReduceLROnPlateau reducing learning rate to 0.00010000000474974513.\n",
            "Epoch 39/2000\n",
            "42/42 [==============================] - 119s 3s/step - loss: 0.0422 - acc: 0.9921 - val_loss: 0.0998 - val_acc: 0.9701\n",
            "INFO:tensorflow:Assets written to: best.model/assets\n",
            "Epoch 40/2000\n",
            "42/42 [==============================] - 120s 3s/step - loss: 0.0239 - acc: 0.9965 - val_loss: 0.1081 - val_acc: 0.9701\n",
            "Epoch 41/2000\n",
            "42/42 [==============================] - 120s 3s/step - loss: 0.0219 - acc: 0.9971 - val_loss: 0.1122 - val_acc: 0.9701\n",
            "Epoch 42/2000\n",
            "42/42 [==============================] - 120s 3s/step - loss: 0.0284 - acc: 0.9927 - val_loss: 0.1153 - val_acc: 0.9672\n",
            "Epoch 43/2000\n",
            "42/42 [==============================] - 119s 3s/step - loss: 0.0251 - acc: 0.9968 - val_loss: 0.1135 - val_acc: 0.9672\n",
            "Epoch 44/2000\n",
            "42/42 [==============================] - 118s 3s/step - loss: 0.0248 - acc: 0.9958 - val_loss: 0.1187 - val_acc: 0.9701\n",
            "\n",
            "Epoch 00044: ReduceLROnPlateau reducing learning rate to 1.0000000474974514e-05.\n",
            "Epoch 45/2000\n",
            "42/42 [==============================] - 118s 3s/step - loss: 0.0178 - acc: 0.9981 - val_loss: 0.1179 - val_acc: 0.9672\n",
            "Epoch 46/2000\n",
            "42/42 [==============================] - 118s 3s/step - loss: 0.0195 - acc: 0.9987 - val_loss: 0.1181 - val_acc: 0.9672\n",
            "Epoch 47/2000\n",
            "42/42 [==============================] - 119s 3s/step - loss: 0.0200 - acc: 0.9980 - val_loss: 0.1184 - val_acc: 0.9672\n",
            "Epoch 48/2000\n",
            "42/42 [==============================] - 119s 3s/step - loss: 0.0196 - acc: 0.9991 - val_loss: 0.1189 - val_acc: 0.9672\n",
            "Epoch 49/2000\n",
            "42/42 [==============================] - 119s 3s/step - loss: 0.0184 - acc: 0.9983 - val_loss: 0.1183 - val_acc: 0.9672\n",
            "\n",
            "Epoch 00049: ReduceLROnPlateau reducing learning rate to 1.0000000656873453e-06.\n",
            "Epoch 50/2000\n",
            "42/42 [==============================] - 120s 3s/step - loss: 0.0171 - acc: 0.9990 - val_loss: 0.1184 - val_acc: 0.9672\n",
            "Epoch 51/2000\n",
            "42/42 [==============================] - 120s 3s/step - loss: 0.0197 - acc: 0.9983 - val_loss: 0.1184 - val_acc: 0.9672\n",
            "11/11 [==============================] - 8s 751ms/step - loss: 0.1184 - acc: 0.9672\n"
          ],
          "name": "stdout"
        },
        {
          "output_type": "execute_result",
          "data": {
            "text/plain": [
              "array([  4,   8,   9,  11,  39,  77,  88,  96,  99, 262, 267])"
            ]
          },
          "metadata": {
            "tags": []
          },
          "execution_count": 75
        }
      ]
    },
    {
      "cell_type": "code",
      "metadata": {
        "colab": {
          "base_uri": "https://localhost:8080/"
        },
        "id": "f0lCv5POtJ9n",
        "outputId": "b9618b41-d283-4af2-f53e-ef7e2e84054a"
      },
      "source": [
        "print(\"y_pred\",y_pred)\n",
        "print(\"y_pred_class\",y_pred_cls)\n",
        "from sklearn.metrics import classification_report\n",
        "print(classification_report(y_valid,y_pred_cls))"
      ],
      "execution_count": 82,
      "outputs": [
        {
          "output_type": "stream",
          "text": [
            "y_pred [[2.8296982e-04 9.9971539e-01 3.0809242e-09 3.3730963e-08 1.6132378e-06]\n",
            " [9.4955607e-04 9.9904734e-01 7.1592865e-09 2.7556231e-08 3.0886870e-06]\n",
            " [9.8547840e-01 5.4671657e-03 7.4221846e-03 4.0881819e-04 1.2234004e-03]\n",
            " ...\n",
            " [6.0703547e-04 9.9939072e-01 1.8402082e-09 1.1669760e-08 2.3099035e-06]\n",
            " [9.9999952e-01 1.9421613e-10 4.6659417e-07 1.0225318e-14 2.8407281e-13]\n",
            " [9.9965262e-01 9.0067319e-05 2.5109533e-04 1.7281934e-08 6.1576261e-06]]\n",
            "y_pred_class [1 1 0 1 0 0 0 1 0 3 2 1 0 2 1 0 2 0 1 1 2 1 2 0 1 1 0 2 0 2 0 2 0 0 2 1 0\n",
            " 1 3 2 1 0 1 0 0 0 0 2 1 2 0 1 2 2 0 1 0 2 0 1 1 1 2 2 1 2 2 0 0 2 2 0 1 1\n",
            " 2 1 2 3 1 2 1 1 1 0 1 1 1 0 2 1 1 0 0 0 2 0 1 2 1 3 2 1 0 2 1 0 2 1 0 2 1\n",
            " 1 2 2 2 2 0 2 2 1 1 2 1 2 1 0 0 1 2 2 2 1 0 1 2 0 2 2 2 1 1 1 1 2 0 0 0 1\n",
            " 0 0 1 0 2 0 0 1 1 0 0 2 1 2 3 1 1 1 1 1 1 2 2 1 3 0 1 1 0 1 2 1 1 1 0 0 1\n",
            " 1 1 0 1 1 2 0 0 0 1 1 1 1 0 2 2 1 0 0 1 2 2 0 1 0 0 2 0 2 1 0 1 2 0 0 1 2\n",
            " 0 0 0 1 0 0 0 1 0 0 1 0 2 2 4 1 0 2 1 0 1 2 2 2 0 1 1 2 1 0 2 1 0 0 1 1 2\n",
            " 1 0 2 0 1 0 2 0 0 1 0 1 0 0 0 1 0 0 0 1 1 0 1 2 1 1 2 0 1 1 0 0 0 0 0 1 2\n",
            " 1 2 0 0 1 1 1 0 0 0 1 0 1 0 0 1 1 2 1 1 1 1 2 0 1 1 0 0 2 0 4 1 1 0 0 2 1\n",
            " 0 0]\n",
            "              precision    recall  f1-score   support\n",
            "\n",
            "           0       0.97      0.98      0.97       117\n",
            "           1       0.98      0.96      0.97       130\n",
            "           2       0.98      0.98      0.98        81\n",
            "           3       0.50      1.00      0.67         3\n",
            "           4       1.00      0.50      0.67         4\n",
            "\n",
            "    accuracy                           0.97       335\n",
            "   macro avg       0.89      0.88      0.85       335\n",
            "weighted avg       0.97      0.97      0.97       335\n",
            "\n"
          ],
          "name": "stdout"
        }
      ]
    }
  ]
}